{
 "cells": [
  {
   "cell_type": "markdown",
   "id": "f5b05acb",
   "metadata": {},
   "source": [
    "## Sentiment Analysis"
   ]
  },
  {
   "cell_type": "markdown",
   "id": "3a66ea2b",
   "metadata": {},
   "source": [
    "### stanza pipeline"
   ]
  },
  {
   "cell_type": "code",
   "execution_count": 1,
   "id": "8e5e9b81",
   "metadata": {},
   "outputs": [
    {
     "name": "stdout",
     "output_type": "stream",
     "text": [
      "Looking in indexes: https://pypi.org/simple, https://pypi.ngc.nvidia.com\n",
      "Requirement already satisfied: stanza in /opt/conda/lib/python3.8/site-packages (1.4.2)\n",
      "Requirement already satisfied: protobuf in /opt/conda/lib/python3.8/site-packages (from stanza) (3.18.1)\n",
      "Requirement already satisfied: six in /opt/conda/lib/python3.8/site-packages (from stanza) (1.16.0)\n",
      "Requirement already satisfied: requests in /opt/conda/lib/python3.8/site-packages (from stanza) (2.26.0)\n",
      "Requirement already satisfied: torch>=1.3.0 in /opt/conda/lib/python3.8/site-packages (from stanza) (1.10.0a0+0aef44c)\n",
      "Requirement already satisfied: emoji in /opt/conda/lib/python3.8/site-packages (from stanza) (2.1.0)\n",
      "Requirement already satisfied: tqdm in /opt/conda/lib/python3.8/site-packages (from stanza) (4.62.3)\n",
      "Requirement already satisfied: numpy in /opt/conda/lib/python3.8/site-packages (from stanza) (1.21.2)\n",
      "Requirement already satisfied: typing_extensions in /opt/conda/lib/python3.8/site-packages (from torch>=1.3.0->stanza) (3.10.0.2)\n",
      "Requirement already satisfied: charset-normalizer~=2.0.0 in /opt/conda/lib/python3.8/site-packages (from requests->stanza) (2.0.0)\n",
      "Requirement already satisfied: certifi>=2017.4.17 in /opt/conda/lib/python3.8/site-packages (from requests->stanza) (2021.5.30)\n",
      "Requirement already satisfied: urllib3<1.27,>=1.21.1 in /opt/conda/lib/python3.8/site-packages (from requests->stanza) (1.26.7)\n",
      "Requirement already satisfied: idna<4,>=2.5 in /opt/conda/lib/python3.8/site-packages (from requests->stanza) (3.1)\n",
      "\u001b[33mWARNING: Running pip as the 'root' user can result in broken permissions and conflicting behaviour with the system package manager. It is recommended to use a virtual environment instead: https://pip.pypa.io/warnings/venv\u001b[0m\n"
     ]
    }
   ],
   "source": [
    "!pip install stanza"
   ]
  },
  {
   "cell_type": "code",
   "execution_count": 2,
   "id": "318ad228",
   "metadata": {},
   "outputs": [],
   "source": [
    "# import stanza\n",
    "# nlp = stanza.Pipeline(lang='en', processors='tokenize,sentiment')\n",
    "# doc = nlp('I hate that they banned Mox Opal')\n",
    "# for i, sentence in enumerate(doc.sentences):\n",
    "#     print(\"%d -> %d\" % (i, sentence.sentiment))"
   ]
  },
  {
   "cell_type": "code",
   "execution_count": 3,
   "id": "122d081a",
   "metadata": {},
   "outputs": [],
   "source": [
    "# import stanza\n",
    "# nlp = stanza.Pipeline(lang='en', processors='tokenize,sentiment', tokenize_no_ssplit=True)\n",
    "# doc = nlp(\"ok Thank you for calling [CLIENT] Tech Coach. My name is [NAME]. May I have your first and last name, please? I'm trying. Thank you. May I have the ten digit mobile number that you and I will be working on today? I'm [NUMBER] [NUMBER] [NUMBER] [NUMBER] [NUMBER] [NUMBER] [NUMBER] [NUMBER] nine five I was already speaking. Thank you. right. And Security right now just waiting to a technical support we got disconnected. Oh, Ok. So, thank you for telling me that. Did you guys already start doing troubleshooting sets? Yeah. Yeah. She did, um, but the problem is my phone's not receiving incoming calls so she probably didn't call me back. Mm. Ok. So you're not receiving calls. Ok And I'm assuming like, the step you guys took probably involved the phone being turned off and on. Is that Ryan? No. She didn't get there yet. Ok. Which No. She was just troubleshooting it and had me on hold Ok. Which steps did you guys already take? Um, she didn't have me to do anything. She was just looking at it on her end. Yeah. and then the call just dropped. Am I understand in that correct? Yeah. I see. Ok. So just to let you know it to expect security, I'm gonna pull up some tools right now and I'm also gonna, um, ask you a few more questions just so I can narrow down where this is coming from. But ultimately, Ok. Ok once we go through these steps we'll test to make sure that it actually works. And then worst case scenario, I can't fix whatever's is going on with the phone. Actually. then we'll talk about repair replacement options. Ok? So I don't want you to worry one bit. Um, I also see here you haven't enrolled in the [CLIENT] home to device Ok. Ok. protect Feature. But I wanna resolve your issue first. We'll put that on the back burner. And um, Ok. When did this start happening? Um, I thought it was yesterday but now did I look in my call log and stuff I think it started like Saturday morning? Oh man, that's a long time to not have calls coming through. So you can dial out just fine. Now stop. Yeah. Dialing. Now, can you text? Yes. And I still receiving text messages to your What it about Good. Ok. What about, um, Internet. Did you when you're not connected to Wifi. Yeah. Is that still working? Ok. Are you the only line on the account? Or there other people with you? No. My husband's on the account too. has he made any mention that his phone's not receiving calls? No. Ok. And here can we head into your home screen, Mhmm. all your apps are on the main page, then we're gonna tap on the phone app. So the app you used to make calls. Ok. And then you see the three dots in the top right corner. Uh-huh. Ok. let's tap there? and then we're gonna choose settings. Ok. and then Do you see where it says blocked numbers at the top? You. Let's tap there, please? And then do you have block unknown slash private numbers on or off? It is off. Off. Most of us have a healthy list of numbers that we walked in the time of us having our phone. If you see any numbers listed there, No. are there any numbers or names that stand out to you that should not have been blocked? No. Ok. Which city and state are you in? Um Garden Grove, [STATE]. Gordon Group, [STATE]. Thank you. I'm gonna check to see if there's any outages or known issues ok in general with this making and model of phone. Ok? Ok. Of [STATE]. Do you consider yourself a Samsung person? Yeah. I usually have had Samsung phones. Yeah. great refund. So have you gotten into any of other products like the, um, your earbuds or anything like that? No. No. No. Yeah. I just got my first pair the other day. I was I'm just always using my wired headphones before. Credit. Ok. Good no outages in your area. But There's a oh. Ok. there there's a no issue with your phone. the full, um, it's showing here it's specifically with receiving calls. and it's saying fix it, we need to uninstall the one talk app. Ok. Um, Security, do you have me on speaker phone? I do. Here. Do you mind if I send a request to your phone so that I can share screens with you and see what you're seeing? Sure. Ok. Please i see. you are gonna get a pop up here in a sec. Got it? it's gonna say something like Ok. Oh, do you see start now? Um, yeah. I think I already clicked it. you did. um, still not able to see it here i'm gonna kick myself out of your phone. Now it says something ended Ok. Ok The now press continue. And then start now. please Mhmm. Yep. Mkay. There we go. Ok. So now I can see what you're seeing. So let's go back to your home screen. Can we please open up your settings app? And then from settings, we're gonna choose apps or applications. It's Ok. So what I always do is I I just tap here in this little search. This is for just narrowing down one app. And then type the word one o n e And then can we scroll down a little bit. We're looking for one talk. Oh, I think we might have passed it. See one a One talk highway? Boom. Boom. Yes. We'll tap there. Let's get rid of this. Ok. Yeah. It's showing there's Mhmm. So choose. Ok? Alright. Now we need to restart your phone and then give it another test. I don't wanna lose you if I don't have to, though. Is there another phone I can talk to you on or is this all that you have? Um, well my husband's is sweet sleeping right now and taking an nap. So I would have to use his phone, but You you think you can grab it from him real quick? I signed of can't. So. you can at the moment. No. Um, I still have if it's blocked or anything so I don't know we'll be able to even I see. Ok. And you don't got a landline or anything? No. Ok. Let me try calling the phone maybe we can get away with it with not having a restart the phone. It's suggesting that we do per the outage details. But here let me just I'm gonna leave this line open so we don't get disconnected. Ok. And then I'm gonna try calling your phone right now. Ok? Ok. Alright. One sec. Ok. ok for. Alright um. rode. Ok, Ok. ok. Alright Alright Ok. phone.\"\n",
    "# )\n",
    "# for i, sentence in enumerate(doc.sentences):\n",
    "#     print(\"%d -> %d\" % (i, sentence.sentiment))"
   ]
  },
  {
   "cell_type": "code",
   "execution_count": 4,
   "id": "05c4e588",
   "metadata": {},
   "outputs": [],
   "source": [
    "# nlp = stanza.Pipeline(lang='en', processors='tokenize')\n",
    "# doc = nlp('This is a test sentence for stanza. This is another sentence. i love you')\n",
    "# sent_list = [sentence.text for sentence in doc.sentences]\n",
    "\n",
    "# nlp = stanza.Pipeline(lang='en', processors='tokenize,sentiment', tokenize_no_ssplit=True)\n",
    "# doc = nlp('Jennifer has pretty antennae.  I hope I meet her someday.')\n",
    "# for i, sentence in enumerate(doc.sentences):\n",
    "#     print(\"%d -> %d\" % (i, sentence.sentiment))"
   ]
  },
  {
   "cell_type": "code",
   "execution_count": 5,
   "id": "5f170ea9",
   "metadata": {},
   "outputs": [],
   "source": [
    "# import stanza\n",
    "\n",
    "# nlp = stanza.Pipeline(lang='en', processors='tokenize', tokenize_pretokenized=True)\n",
    "# doc = nlp('This is token.ization done my way!\\nSentence split, too!')\n",
    "# for i, sentence in enumerate(doc.sentences):\n",
    "#     print(f'====== Sentence {i+1} tokens =======')\n",
    "#     print(*[f'id: {token.id}\\ttext: {token.text}' for token in sentence.tokens], sep='\\n')"
   ]
  },
  {
   "cell_type": "code",
   "execution_count": 6,
   "id": "69cd540d",
   "metadata": {},
   "outputs": [
    {
     "name": "stdout",
     "output_type": "stream",
     "text": [
      "/workspace/asurion_f22/Asurion-customer-propensity\n"
     ]
    }
   ],
   "source": [
    "%cd .."
   ]
  },
  {
   "cell_type": "code",
   "execution_count": 7,
   "id": "b66fbd22",
   "metadata": {},
   "outputs": [
    {
     "name": "stdout",
     "output_type": "stream",
     "text": [
      "/workspace/asurion_f22\n"
     ]
    }
   ],
   "source": [
    "%cd .."
   ]
  },
  {
   "cell_type": "code",
   "execution_count": 8,
   "id": "29887cbf",
   "metadata": {},
   "outputs": [
    {
     "data": {
      "text/html": [
       "<div>\n",
       "<style scoped>\n",
       "    .dataframe tbody tr th:only-of-type {\n",
       "        vertical-align: middle;\n",
       "    }\n",
       "\n",
       "    .dataframe tbody tr th {\n",
       "        vertical-align: top;\n",
       "    }\n",
       "\n",
       "    .dataframe thead th {\n",
       "        text-align: right;\n",
       "    }\n",
       "</style>\n",
       "<table border=\"1\" class=\"dataframe\">\n",
       "  <thead>\n",
       "    <tr style=\"text-align: right;\">\n",
       "      <th></th>\n",
       "      <th>ID</th>\n",
       "      <th>sales_offer_date</th>\n",
       "      <th>accepted_flg</th>\n",
       "      <th>encrypted_collated_transcription</th>\n",
       "    </tr>\n",
       "  </thead>\n",
       "  <tbody>\n",
       "    <tr>\n",
       "      <th>0</th>\n",
       "      <td>4f81e2619aae688a3a814da7f58afdecb9720e9fdd5070...</td>\n",
       "      <td>2022-05-31</td>\n",
       "      <td>False</td>\n",
       "      <td>Thank you for calling [CLIENT] Tech for speaki...</td>\n",
       "    </tr>\n",
       "    <tr>\n",
       "      <th>1</th>\n",
       "      <td>03bcb2c2dd3e29b8b7ba6c0cf8c7232c8637d6bc73a760...</td>\n",
       "      <td>2022-05-13</td>\n",
       "      <td>False</td>\n",
       "      <td>[CLIENT] tech My name is [NAME]. May I have yo...</td>\n",
       "    </tr>\n",
       "    <tr>\n",
       "      <th>2</th>\n",
       "      <td>c1eeaa4c1fe8030bb6f0deaa81a13b468001c699586f46...</td>\n",
       "      <td>2022-05-29</td>\n",
       "      <td>False</td>\n",
       "      <td>Hi. Thank you for call. tech you're speaking w...</td>\n",
       "    </tr>\n",
       "    <tr>\n",
       "      <th>3</th>\n",
       "      <td>5bf5d93c818534d9edcff8cbb45f28d3e0438cf7ab7850...</td>\n",
       "      <td>2022-05-22</td>\n",
       "      <td>False</td>\n",
       "      <td>Thank you for calling [CLIENT] Tech Coach. My ...</td>\n",
       "    </tr>\n",
       "    <tr>\n",
       "      <th>4</th>\n",
       "      <td>c484a81de8c25bcfb9d95f36976cfb425a3d2c7602a93c...</td>\n",
       "      <td>2022-05-21</td>\n",
       "      <td>False</td>\n",
       "      <td>Hi. Thank you for calling [CLIENT] Barcode Coa...</td>\n",
       "    </tr>\n",
       "  </tbody>\n",
       "</table>\n",
       "</div>"
      ],
      "text/plain": [
       "                                                  ID sales_offer_date  \\\n",
       "0  4f81e2619aae688a3a814da7f58afdecb9720e9fdd5070...       2022-05-31   \n",
       "1  03bcb2c2dd3e29b8b7ba6c0cf8c7232c8637d6bc73a760...       2022-05-13   \n",
       "2  c1eeaa4c1fe8030bb6f0deaa81a13b468001c699586f46...       2022-05-29   \n",
       "3  5bf5d93c818534d9edcff8cbb45f28d3e0438cf7ab7850...       2022-05-22   \n",
       "4  c484a81de8c25bcfb9d95f36976cfb425a3d2c7602a93c...       2022-05-21   \n",
       "\n",
       "   accepted_flg                   encrypted_collated_transcription  \n",
       "0         False  Thank you for calling [CLIENT] Tech for speaki...  \n",
       "1         False  [CLIENT] tech My name is [NAME]. May I have yo...  \n",
       "2         False  Hi. Thank you for call. tech you're speaking w...  \n",
       "3         False  Thank you for calling [CLIENT] Tech Coach. My ...  \n",
       "4         False  Hi. Thank you for calling [CLIENT] Barcode Coa...  "
      ]
     },
     "execution_count": 8,
     "metadata": {},
     "output_type": "execute_result"
    }
   ],
   "source": [
    "import pandas as pd\n",
    "import stanza\n",
    "df = pd.read_csv('data/transcript_may_encoded_100.csv')\n",
    "# ('data/transcript_march_collated_encoded.csv')\n",
    "df = df.drop(columns='Unnamed: 0')\n",
    "# df = df[df['accepted_flg'] == True][:10]\n",
    "df.head()"
   ]
  },
  {
   "cell_type": "code",
   "execution_count": 9,
   "id": "6e8734ca",
   "metadata": {},
   "outputs": [
    {
     "name": "stdout",
     "output_type": "stream",
     "text": [
      "<class 'pandas.core.frame.DataFrame'>\n",
      "RangeIndex: 46 entries, 0 to 45\n",
      "Data columns (total 4 columns):\n",
      " #   Column                            Non-Null Count  Dtype \n",
      "---  ------                            --------------  ----- \n",
      " 0   ID                                46 non-null     object\n",
      " 1   sales_offer_date                  46 non-null     object\n",
      " 2   accepted_flg                      46 non-null     bool  \n",
      " 3   encrypted_collated_transcription  46 non-null     object\n",
      "dtypes: bool(1), object(3)\n",
      "memory usage: 1.2+ KB\n"
     ]
    }
   ],
   "source": [
    "df.info()"
   ]
  },
  {
   "cell_type": "code",
   "execution_count": 12,
   "id": "5659f9fb",
   "metadata": {},
   "outputs": [],
   "source": [
    "def sentiment_analysis_stanza(df, text_col:str):\n",
    "    for i in df.index:\n",
    "        text = df.loc[i, text_col]\n",
    "        nlp = stanza.Pipeline(lang='en', processors='tokenize,sentiment', tokenize_no_ssplit=True)\n",
    "        doc = nlp(text)\n",
    "        for j, sentence in enumerate(doc.sentences):\n",
    "            res = (\"%d -> %d\" % (j, sentence.sentiment))\n",
    "            if '0 -> 0'== res:\n",
    "                df.loc[i, 'sentiment'] = 'negative'\n",
    "            elif '0 -> 1'== res:    \n",
    "                df.loc[i, 'sentiment'] = 'neutral'\n",
    "            elif '0 -> 2'== res:    \n",
    "                df.loc[i, 'sentiment'] = 'positive'\n",
    "    return df"
   ]
  },
  {
   "cell_type": "code",
   "execution_count": 13,
   "id": "cb56ae1a",
   "metadata": {},
   "outputs": [
    {
     "name": "stderr",
     "output_type": "stream",
     "text": [
      "2022-09-28 18:18:55 INFO: Checking for updates to resources.json in case models have been updated.  Note: this behavior can be turned off with download_method=None or download_method=DownloadMethod.REUSE_RESOURCES\n"
     ]
    },
    {
     "data": {
      "application/json": {
       "ascii": false,
       "bar_format": null,
       "colour": null,
       "elapsed": 0.013554811477661133,
       "initial": 0,
       "n": 0,
       "ncols": null,
       "nrows": 24,
       "postfix": null,
       "prefix": "Downloading https://raw.githubusercontent.com/stanfordnlp/stanza-resources/main/resources_1.4.1.json",
       "rate": null,
       "total": 28785,
       "unit": "B",
       "unit_divisor": 1000,
       "unit_scale": true
      },
      "application/vnd.jupyter.widget-view+json": {
       "model_id": "c068fe4c865747f79c4eca27a78d5f03",
       "version_major": 2,
       "version_minor": 0
      },
      "text/plain": [
       "Downloading https://raw.githubusercontent.com/stanfordnlp/stanza-resources/main/resources_1.4.1.json:   0%|   …"
      ]
     },
     "metadata": {},
     "output_type": "display_data"
    },
    {
     "name": "stderr",
     "output_type": "stream",
     "text": [
      "2022-09-28 18:18:56 INFO: Loading these models for language: en (English):\n",
      "========================\n",
      "| Processor | Package  |\n",
      "------------------------\n",
      "| tokenize  | combined |\n",
      "| sentiment | sstplus  |\n",
      "========================\n",
      "\n",
      "2022-09-28 18:18:56 INFO: Use device: gpu\n",
      "2022-09-28 18:18:56 INFO: Loading: tokenize\n",
      "2022-09-28 18:18:56 INFO: Loading: sentiment\n",
      "2022-09-28 18:18:57 INFO: Done loading processors!\n",
      "2022-09-28 18:18:57 INFO: Checking for updates to resources.json in case models have been updated.  Note: this behavior can be turned off with download_method=None or download_method=DownloadMethod.REUSE_RESOURCES\n"
     ]
    },
    {
     "data": {
      "application/json": {
       "ascii": false,
       "bar_format": null,
       "colour": null,
       "elapsed": 0.01608872413635254,
       "initial": 0,
       "n": 0,
       "ncols": null,
       "nrows": 24,
       "postfix": null,
       "prefix": "Downloading https://raw.githubusercontent.com/stanfordnlp/stanza-resources/main/resources_1.4.1.json",
       "rate": null,
       "total": 28785,
       "unit": "B",
       "unit_divisor": 1000,
       "unit_scale": true
      },
      "application/vnd.jupyter.widget-view+json": {
       "model_id": "44b14a310d1e4662a3742b5210288afc",
       "version_major": 2,
       "version_minor": 0
      },
      "text/plain": [
       "Downloading https://raw.githubusercontent.com/stanfordnlp/stanza-resources/main/resources_1.4.1.json:   0%|   …"
      ]
     },
     "metadata": {},
     "output_type": "display_data"
    },
    {
     "name": "stderr",
     "output_type": "stream",
     "text": [
      "2022-09-28 18:18:57 INFO: Loading these models for language: en (English):\n",
      "========================\n",
      "| Processor | Package  |\n",
      "------------------------\n",
      "| tokenize  | combined |\n",
      "| sentiment | sstplus  |\n",
      "========================\n",
      "\n",
      "2022-09-28 18:18:57 INFO: Use device: gpu\n",
      "2022-09-28 18:18:57 INFO: Loading: tokenize\n",
      "2022-09-28 18:18:57 INFO: Loading: sentiment\n",
      "2022-09-28 18:18:58 INFO: Done loading processors!\n",
      "2022-09-28 18:18:58 INFO: Checking for updates to resources.json in case models have been updated.  Note: this behavior can be turned off with download_method=None or download_method=DownloadMethod.REUSE_RESOURCES\n"
     ]
    },
    {
     "data": {
      "application/json": {
       "ascii": false,
       "bar_format": null,
       "colour": null,
       "elapsed": 0.013339042663574219,
       "initial": 0,
       "n": 0,
       "ncols": null,
       "nrows": 24,
       "postfix": null,
       "prefix": "Downloading https://raw.githubusercontent.com/stanfordnlp/stanza-resources/main/resources_1.4.1.json",
       "rate": null,
       "total": 28785,
       "unit": "B",
       "unit_divisor": 1000,
       "unit_scale": true
      },
      "application/vnd.jupyter.widget-view+json": {
       "model_id": "987f60ef5083423ab3ad8475ffef4469",
       "version_major": 2,
       "version_minor": 0
      },
      "text/plain": [
       "Downloading https://raw.githubusercontent.com/stanfordnlp/stanza-resources/main/resources_1.4.1.json:   0%|   …"
      ]
     },
     "metadata": {},
     "output_type": "display_data"
    },
    {
     "name": "stderr",
     "output_type": "stream",
     "text": [
      "2022-09-28 18:18:59 INFO: Loading these models for language: en (English):\n",
      "========================\n",
      "| Processor | Package  |\n",
      "------------------------\n",
      "| tokenize  | combined |\n",
      "| sentiment | sstplus  |\n",
      "========================\n",
      "\n",
      "2022-09-28 18:18:59 INFO: Use device: gpu\n",
      "2022-09-28 18:18:59 INFO: Loading: tokenize\n",
      "2022-09-28 18:18:59 INFO: Loading: sentiment\n",
      "2022-09-28 18:18:59 INFO: Done loading processors!\n",
      "2022-09-28 18:19:00 INFO: Checking for updates to resources.json in case models have been updated.  Note: this behavior can be turned off with download_method=None or download_method=DownloadMethod.REUSE_RESOURCES\n"
     ]
    },
    {
     "data": {
      "application/json": {
       "ascii": false,
       "bar_format": null,
       "colour": null,
       "elapsed": 0.01584029197692871,
       "initial": 0,
       "n": 0,
       "ncols": null,
       "nrows": 24,
       "postfix": null,
       "prefix": "Downloading https://raw.githubusercontent.com/stanfordnlp/stanza-resources/main/resources_1.4.1.json",
       "rate": null,
       "total": 28785,
       "unit": "B",
       "unit_divisor": 1000,
       "unit_scale": true
      },
      "application/vnd.jupyter.widget-view+json": {
       "model_id": "aff70be137484b0196eb0ef9af6cdb6c",
       "version_major": 2,
       "version_minor": 0
      },
      "text/plain": [
       "Downloading https://raw.githubusercontent.com/stanfordnlp/stanza-resources/main/resources_1.4.1.json:   0%|   …"
      ]
     },
     "metadata": {},
     "output_type": "display_data"
    },
    {
     "name": "stderr",
     "output_type": "stream",
     "text": [
      "2022-09-28 18:19:01 INFO: Loading these models for language: en (English):\n",
      "========================\n",
      "| Processor | Package  |\n",
      "------------------------\n",
      "| tokenize  | combined |\n",
      "| sentiment | sstplus  |\n",
      "========================\n",
      "\n",
      "2022-09-28 18:19:01 INFO: Use device: gpu\n",
      "2022-09-28 18:19:01 INFO: Loading: tokenize\n",
      "2022-09-28 18:19:01 INFO: Loading: sentiment\n",
      "2022-09-28 18:19:01 INFO: Done loading processors!\n",
      "2022-09-28 18:19:02 INFO: Checking for updates to resources.json in case models have been updated.  Note: this behavior can be turned off with download_method=None or download_method=DownloadMethod.REUSE_RESOURCES\n"
     ]
    },
    {
     "data": {
      "application/json": {
       "ascii": false,
       "bar_format": null,
       "colour": null,
       "elapsed": 0.013532161712646484,
       "initial": 0,
       "n": 0,
       "ncols": null,
       "nrows": 24,
       "postfix": null,
       "prefix": "Downloading https://raw.githubusercontent.com/stanfordnlp/stanza-resources/main/resources_1.4.1.json",
       "rate": null,
       "total": 28785,
       "unit": "B",
       "unit_divisor": 1000,
       "unit_scale": true
      },
      "application/vnd.jupyter.widget-view+json": {
       "model_id": "e4aa24ebd4544f78b46a275f5a0cffdc",
       "version_major": 2,
       "version_minor": 0
      },
      "text/plain": [
       "Downloading https://raw.githubusercontent.com/stanfordnlp/stanza-resources/main/resources_1.4.1.json:   0%|   …"
      ]
     },
     "metadata": {},
     "output_type": "display_data"
    },
    {
     "name": "stderr",
     "output_type": "stream",
     "text": [
      "2022-09-28 18:19:03 INFO: Loading these models for language: en (English):\n",
      "========================\n",
      "| Processor | Package  |\n",
      "------------------------\n",
      "| tokenize  | combined |\n",
      "| sentiment | sstplus  |\n",
      "========================\n",
      "\n",
      "2022-09-28 18:19:03 INFO: Use device: gpu\n",
      "2022-09-28 18:19:03 INFO: Loading: tokenize\n",
      "2022-09-28 18:19:03 INFO: Loading: sentiment\n",
      "2022-09-28 18:19:03 INFO: Done loading processors!\n",
      "2022-09-28 18:19:03 INFO: Checking for updates to resources.json in case models have been updated.  Note: this behavior can be turned off with download_method=None or download_method=DownloadMethod.REUSE_RESOURCES\n"
     ]
    },
    {
     "data": {
      "application/json": {
       "ascii": false,
       "bar_format": null,
       "colour": null,
       "elapsed": 0.013175249099731445,
       "initial": 0,
       "n": 0,
       "ncols": null,
       "nrows": 24,
       "postfix": null,
       "prefix": "Downloading https://raw.githubusercontent.com/stanfordnlp/stanza-resources/main/resources_1.4.1.json",
       "rate": null,
       "total": 28785,
       "unit": "B",
       "unit_divisor": 1000,
       "unit_scale": true
      },
      "application/vnd.jupyter.widget-view+json": {
       "model_id": "0f25b3c45eb44179adfba4283003a1bd",
       "version_major": 2,
       "version_minor": 0
      },
      "text/plain": [
       "Downloading https://raw.githubusercontent.com/stanfordnlp/stanza-resources/main/resources_1.4.1.json:   0%|   …"
      ]
     },
     "metadata": {},
     "output_type": "display_data"
    },
    {
     "name": "stderr",
     "output_type": "stream",
     "text": [
      "2022-09-28 18:19:04 INFO: Loading these models for language: en (English):\n",
      "========================\n",
      "| Processor | Package  |\n",
      "------------------------\n",
      "| tokenize  | combined |\n",
      "| sentiment | sstplus  |\n",
      "========================\n",
      "\n",
      "2022-09-28 18:19:04 INFO: Use device: gpu\n",
      "2022-09-28 18:19:04 INFO: Loading: tokenize\n",
      "2022-09-28 18:19:04 INFO: Loading: sentiment\n",
      "2022-09-28 18:19:05 INFO: Done loading processors!\n",
      "2022-09-28 18:19:06 INFO: Checking for updates to resources.json in case models have been updated.  Note: this behavior can be turned off with download_method=None or download_method=DownloadMethod.REUSE_RESOURCES\n"
     ]
    },
    {
     "data": {
      "application/json": {
       "ascii": false,
       "bar_format": null,
       "colour": null,
       "elapsed": 0.013609886169433594,
       "initial": 0,
       "n": 0,
       "ncols": null,
       "nrows": 24,
       "postfix": null,
       "prefix": "Downloading https://raw.githubusercontent.com/stanfordnlp/stanza-resources/main/resources_1.4.1.json",
       "rate": null,
       "total": 28785,
       "unit": "B",
       "unit_divisor": 1000,
       "unit_scale": true
      },
      "application/vnd.jupyter.widget-view+json": {
       "model_id": "ef00a3418a874e92a43c0bcd7ab77bb3",
       "version_major": 2,
       "version_minor": 0
      },
      "text/plain": [
       "Downloading https://raw.githubusercontent.com/stanfordnlp/stanza-resources/main/resources_1.4.1.json:   0%|   …"
      ]
     },
     "metadata": {},
     "output_type": "display_data"
    },
    {
     "name": "stderr",
     "output_type": "stream",
     "text": [
      "2022-09-28 18:19:07 INFO: Loading these models for language: en (English):\n",
      "========================\n",
      "| Processor | Package  |\n",
      "------------------------\n",
      "| tokenize  | combined |\n",
      "| sentiment | sstplus  |\n",
      "========================\n",
      "\n",
      "2022-09-28 18:19:07 INFO: Use device: gpu\n",
      "2022-09-28 18:19:07 INFO: Loading: tokenize\n",
      "2022-09-28 18:19:07 INFO: Loading: sentiment\n",
      "2022-09-28 18:19:07 INFO: Done loading processors!\n",
      "2022-09-28 18:19:10 INFO: Checking for updates to resources.json in case models have been updated.  Note: this behavior can be turned off with download_method=None or download_method=DownloadMethod.REUSE_RESOURCES\n"
     ]
    },
    {
     "data": {
      "application/json": {
       "ascii": false,
       "bar_format": null,
       "colour": null,
       "elapsed": 0.013444662094116211,
       "initial": 0,
       "n": 0,
       "ncols": null,
       "nrows": 24,
       "postfix": null,
       "prefix": "Downloading https://raw.githubusercontent.com/stanfordnlp/stanza-resources/main/resources_1.4.1.json",
       "rate": null,
       "total": 28785,
       "unit": "B",
       "unit_divisor": 1000,
       "unit_scale": true
      },
      "application/vnd.jupyter.widget-view+json": {
       "model_id": "a6bc1cc350084d96bef5213812c281d6",
       "version_major": 2,
       "version_minor": 0
      },
      "text/plain": [
       "Downloading https://raw.githubusercontent.com/stanfordnlp/stanza-resources/main/resources_1.4.1.json:   0%|   …"
      ]
     },
     "metadata": {},
     "output_type": "display_data"
    },
    {
     "name": "stderr",
     "output_type": "stream",
     "text": [
      "2022-09-28 18:19:11 INFO: Loading these models for language: en (English):\n",
      "========================\n",
      "| Processor | Package  |\n",
      "------------------------\n",
      "| tokenize  | combined |\n",
      "| sentiment | sstplus  |\n",
      "========================\n",
      "\n",
      "2022-09-28 18:19:11 INFO: Use device: gpu\n",
      "2022-09-28 18:19:11 INFO: Loading: tokenize\n",
      "2022-09-28 18:19:11 INFO: Loading: sentiment\n",
      "2022-09-28 18:19:12 INFO: Done loading processors!\n",
      "2022-09-28 18:19:13 INFO: Checking for updates to resources.json in case models have been updated.  Note: this behavior can be turned off with download_method=None or download_method=DownloadMethod.REUSE_RESOURCES\n"
     ]
    },
    {
     "data": {
      "application/json": {
       "ascii": false,
       "bar_format": null,
       "colour": null,
       "elapsed": 0.01385354995727539,
       "initial": 0,
       "n": 0,
       "ncols": null,
       "nrows": 24,
       "postfix": null,
       "prefix": "Downloading https://raw.githubusercontent.com/stanfordnlp/stanza-resources/main/resources_1.4.1.json",
       "rate": null,
       "total": 28785,
       "unit": "B",
       "unit_divisor": 1000,
       "unit_scale": true
      },
      "application/vnd.jupyter.widget-view+json": {
       "model_id": "0f4f6eade2984f598e16be8c23ebce45",
       "version_major": 2,
       "version_minor": 0
      },
      "text/plain": [
       "Downloading https://raw.githubusercontent.com/stanfordnlp/stanza-resources/main/resources_1.4.1.json:   0%|   …"
      ]
     },
     "metadata": {},
     "output_type": "display_data"
    },
    {
     "name": "stderr",
     "output_type": "stream",
     "text": [
      "2022-09-28 18:19:13 INFO: Loading these models for language: en (English):\n",
      "========================\n",
      "| Processor | Package  |\n",
      "------------------------\n",
      "| tokenize  | combined |\n",
      "| sentiment | sstplus  |\n",
      "========================\n",
      "\n",
      "2022-09-28 18:19:13 INFO: Use device: gpu\n",
      "2022-09-28 18:19:13 INFO: Loading: tokenize\n",
      "2022-09-28 18:19:13 INFO: Loading: sentiment\n",
      "2022-09-28 18:19:14 INFO: Done loading processors!\n",
      "2022-09-28 18:19:15 INFO: Checking for updates to resources.json in case models have been updated.  Note: this behavior can be turned off with download_method=None or download_method=DownloadMethod.REUSE_RESOURCES\n"
     ]
    },
    {
     "data": {
      "application/json": {
       "ascii": false,
       "bar_format": null,
       "colour": null,
       "elapsed": 0.013838052749633789,
       "initial": 0,
       "n": 0,
       "ncols": null,
       "nrows": 24,
       "postfix": null,
       "prefix": "Downloading https://raw.githubusercontent.com/stanfordnlp/stanza-resources/main/resources_1.4.1.json",
       "rate": null,
       "total": 28785,
       "unit": "B",
       "unit_divisor": 1000,
       "unit_scale": true
      },
      "application/vnd.jupyter.widget-view+json": {
       "model_id": "60798f2dd65a4865b2b23e753b58c6cf",
       "version_major": 2,
       "version_minor": 0
      },
      "text/plain": [
       "Downloading https://raw.githubusercontent.com/stanfordnlp/stanza-resources/main/resources_1.4.1.json:   0%|   …"
      ]
     },
     "metadata": {},
     "output_type": "display_data"
    },
    {
     "name": "stderr",
     "output_type": "stream",
     "text": [
      "2022-09-28 18:19:15 INFO: Loading these models for language: en (English):\n",
      "========================\n",
      "| Processor | Package  |\n",
      "------------------------\n",
      "| tokenize  | combined |\n",
      "| sentiment | sstplus  |\n",
      "========================\n",
      "\n",
      "2022-09-28 18:19:15 INFO: Use device: gpu\n",
      "2022-09-28 18:19:15 INFO: Loading: tokenize\n",
      "2022-09-28 18:19:15 INFO: Loading: sentiment\n",
      "2022-09-28 18:19:16 INFO: Done loading processors!\n",
      "2022-09-28 18:19:16 INFO: Checking for updates to resources.json in case models have been updated.  Note: this behavior can be turned off with download_method=None or download_method=DownloadMethod.REUSE_RESOURCES\n"
     ]
    },
    {
     "data": {
      "application/json": {
       "ascii": false,
       "bar_format": null,
       "colour": null,
       "elapsed": 0.013519763946533203,
       "initial": 0,
       "n": 0,
       "ncols": null,
       "nrows": 24,
       "postfix": null,
       "prefix": "Downloading https://raw.githubusercontent.com/stanfordnlp/stanza-resources/main/resources_1.4.1.json",
       "rate": null,
       "total": 28785,
       "unit": "B",
       "unit_divisor": 1000,
       "unit_scale": true
      },
      "application/vnd.jupyter.widget-view+json": {
       "model_id": "6630f9a9618040e48f8c63af6499332d",
       "version_major": 2,
       "version_minor": 0
      },
      "text/plain": [
       "Downloading https://raw.githubusercontent.com/stanfordnlp/stanza-resources/main/resources_1.4.1.json:   0%|   …"
      ]
     },
     "metadata": {},
     "output_type": "display_data"
    },
    {
     "name": "stderr",
     "output_type": "stream",
     "text": [
      "2022-09-28 18:19:17 INFO: Loading these models for language: en (English):\n",
      "========================\n",
      "| Processor | Package  |\n",
      "------------------------\n",
      "| tokenize  | combined |\n",
      "| sentiment | sstplus  |\n",
      "========================\n",
      "\n",
      "2022-09-28 18:19:17 INFO: Use device: gpu\n",
      "2022-09-28 18:19:17 INFO: Loading: tokenize\n",
      "2022-09-28 18:19:17 INFO: Loading: sentiment\n",
      "2022-09-28 18:19:18 INFO: Done loading processors!\n",
      "2022-09-28 18:19:19 INFO: Checking for updates to resources.json in case models have been updated.  Note: this behavior can be turned off with download_method=None or download_method=DownloadMethod.REUSE_RESOURCES\n"
     ]
    },
    {
     "data": {
      "application/json": {
       "ascii": false,
       "bar_format": null,
       "colour": null,
       "elapsed": 0.01370382308959961,
       "initial": 0,
       "n": 0,
       "ncols": null,
       "nrows": 24,
       "postfix": null,
       "prefix": "Downloading https://raw.githubusercontent.com/stanfordnlp/stanza-resources/main/resources_1.4.1.json",
       "rate": null,
       "total": 28785,
       "unit": "B",
       "unit_divisor": 1000,
       "unit_scale": true
      },
      "application/vnd.jupyter.widget-view+json": {
       "model_id": "6af8dda7713940d59f4ae66c9eddf7aa",
       "version_major": 2,
       "version_minor": 0
      },
      "text/plain": [
       "Downloading https://raw.githubusercontent.com/stanfordnlp/stanza-resources/main/resources_1.4.1.json:   0%|   …"
      ]
     },
     "metadata": {},
     "output_type": "display_data"
    },
    {
     "name": "stderr",
     "output_type": "stream",
     "text": [
      "2022-09-28 18:19:19 INFO: Loading these models for language: en (English):\n",
      "========================\n",
      "| Processor | Package  |\n",
      "------------------------\n",
      "| tokenize  | combined |\n",
      "| sentiment | sstplus  |\n",
      "========================\n",
      "\n",
      "2022-09-28 18:19:19 INFO: Use device: gpu\n",
      "2022-09-28 18:19:19 INFO: Loading: tokenize\n",
      "2022-09-28 18:19:19 INFO: Loading: sentiment\n",
      "2022-09-28 18:19:20 INFO: Done loading processors!\n",
      "2022-09-28 18:19:22 INFO: Checking for updates to resources.json in case models have been updated.  Note: this behavior can be turned off with download_method=None or download_method=DownloadMethod.REUSE_RESOURCES\n"
     ]
    },
    {
     "data": {
      "application/json": {
       "ascii": false,
       "bar_format": null,
       "colour": null,
       "elapsed": 0.014028787612915039,
       "initial": 0,
       "n": 0,
       "ncols": null,
       "nrows": 24,
       "postfix": null,
       "prefix": "Downloading https://raw.githubusercontent.com/stanfordnlp/stanza-resources/main/resources_1.4.1.json",
       "rate": null,
       "total": 28785,
       "unit": "B",
       "unit_divisor": 1000,
       "unit_scale": true
      },
      "application/vnd.jupyter.widget-view+json": {
       "model_id": "45373a6b803046728e05c942efafa088",
       "version_major": 2,
       "version_minor": 0
      },
      "text/plain": [
       "Downloading https://raw.githubusercontent.com/stanfordnlp/stanza-resources/main/resources_1.4.1.json:   0%|   …"
      ]
     },
     "metadata": {},
     "output_type": "display_data"
    },
    {
     "name": "stderr",
     "output_type": "stream",
     "text": [
      "2022-09-28 18:19:23 INFO: Loading these models for language: en (English):\n",
      "========================\n",
      "| Processor | Package  |\n",
      "------------------------\n",
      "| tokenize  | combined |\n",
      "| sentiment | sstplus  |\n",
      "========================\n",
      "\n",
      "2022-09-28 18:19:23 INFO: Use device: gpu\n",
      "2022-09-28 18:19:23 INFO: Loading: tokenize\n",
      "2022-09-28 18:19:23 INFO: Loading: sentiment\n",
      "2022-09-28 18:19:23 INFO: Done loading processors!\n",
      "2022-09-28 18:19:24 INFO: Checking for updates to resources.json in case models have been updated.  Note: this behavior can be turned off with download_method=None or download_method=DownloadMethod.REUSE_RESOURCES\n"
     ]
    },
    {
     "data": {
      "application/json": {
       "ascii": false,
       "bar_format": null,
       "colour": null,
       "elapsed": 0.013346433639526367,
       "initial": 0,
       "n": 0,
       "ncols": null,
       "nrows": 24,
       "postfix": null,
       "prefix": "Downloading https://raw.githubusercontent.com/stanfordnlp/stanza-resources/main/resources_1.4.1.json",
       "rate": null,
       "total": 28785,
       "unit": "B",
       "unit_divisor": 1000,
       "unit_scale": true
      },
      "application/vnd.jupyter.widget-view+json": {
       "model_id": "bce503b535774109bf2d3d0bff678ec8",
       "version_major": 2,
       "version_minor": 0
      },
      "text/plain": [
       "Downloading https://raw.githubusercontent.com/stanfordnlp/stanza-resources/main/resources_1.4.1.json:   0%|   …"
      ]
     },
     "metadata": {},
     "output_type": "display_data"
    },
    {
     "name": "stderr",
     "output_type": "stream",
     "text": [
      "2022-09-28 18:19:24 INFO: Loading these models for language: en (English):\n",
      "========================\n",
      "| Processor | Package  |\n",
      "------------------------\n",
      "| tokenize  | combined |\n",
      "| sentiment | sstplus  |\n",
      "========================\n",
      "\n",
      "2022-09-28 18:19:24 INFO: Use device: gpu\n",
      "2022-09-28 18:19:24 INFO: Loading: tokenize\n",
      "2022-09-28 18:19:24 INFO: Loading: sentiment\n",
      "2022-09-28 18:19:25 INFO: Done loading processors!\n",
      "2022-09-28 18:19:25 INFO: Checking for updates to resources.json in case models have been updated.  Note: this behavior can be turned off with download_method=None or download_method=DownloadMethod.REUSE_RESOURCES\n"
     ]
    },
    {
     "data": {
      "application/json": {
       "ascii": false,
       "bar_format": null,
       "colour": null,
       "elapsed": 0.013196706771850586,
       "initial": 0,
       "n": 0,
       "ncols": null,
       "nrows": 24,
       "postfix": null,
       "prefix": "Downloading https://raw.githubusercontent.com/stanfordnlp/stanza-resources/main/resources_1.4.1.json",
       "rate": null,
       "total": 28785,
       "unit": "B",
       "unit_divisor": 1000,
       "unit_scale": true
      },
      "application/vnd.jupyter.widget-view+json": {
       "model_id": "a6c48e79e6a248bf9a9f93fd9e421505",
       "version_major": 2,
       "version_minor": 0
      },
      "text/plain": [
       "Downloading https://raw.githubusercontent.com/stanfordnlp/stanza-resources/main/resources_1.4.1.json:   0%|   …"
      ]
     },
     "metadata": {},
     "output_type": "display_data"
    },
    {
     "name": "stderr",
     "output_type": "stream",
     "text": [
      "2022-09-28 18:19:26 INFO: Loading these models for language: en (English):\n",
      "========================\n",
      "| Processor | Package  |\n",
      "------------------------\n",
      "| tokenize  | combined |\n",
      "| sentiment | sstplus  |\n",
      "========================\n",
      "\n",
      "2022-09-28 18:19:26 INFO: Use device: gpu\n",
      "2022-09-28 18:19:26 INFO: Loading: tokenize\n",
      "2022-09-28 18:19:26 INFO: Loading: sentiment\n",
      "2022-09-28 18:19:26 INFO: Done loading processors!\n",
      "2022-09-28 18:19:27 INFO: Checking for updates to resources.json in case models have been updated.  Note: this behavior can be turned off with download_method=None or download_method=DownloadMethod.REUSE_RESOURCES\n"
     ]
    },
    {
     "data": {
      "application/json": {
       "ascii": false,
       "bar_format": null,
       "colour": null,
       "elapsed": 0.013260126113891602,
       "initial": 0,
       "n": 0,
       "ncols": null,
       "nrows": 24,
       "postfix": null,
       "prefix": "Downloading https://raw.githubusercontent.com/stanfordnlp/stanza-resources/main/resources_1.4.1.json",
       "rate": null,
       "total": 28785,
       "unit": "B",
       "unit_divisor": 1000,
       "unit_scale": true
      },
      "application/vnd.jupyter.widget-view+json": {
       "model_id": "2dcee1fdd2324d18986f4015bfb0dbe2",
       "version_major": 2,
       "version_minor": 0
      },
      "text/plain": [
       "Downloading https://raw.githubusercontent.com/stanfordnlp/stanza-resources/main/resources_1.4.1.json:   0%|   …"
      ]
     },
     "metadata": {},
     "output_type": "display_data"
    },
    {
     "name": "stderr",
     "output_type": "stream",
     "text": [
      "2022-09-28 18:19:28 INFO: Loading these models for language: en (English):\n",
      "========================\n",
      "| Processor | Package  |\n",
      "------------------------\n",
      "| tokenize  | combined |\n",
      "| sentiment | sstplus  |\n",
      "========================\n",
      "\n",
      "2022-09-28 18:19:28 INFO: Use device: gpu\n",
      "2022-09-28 18:19:28 INFO: Loading: tokenize\n",
      "2022-09-28 18:19:28 INFO: Loading: sentiment\n",
      "2022-09-28 18:19:28 INFO: Done loading processors!\n",
      "2022-09-28 18:19:29 INFO: Checking for updates to resources.json in case models have been updated.  Note: this behavior can be turned off with download_method=None or download_method=DownloadMethod.REUSE_RESOURCES\n"
     ]
    },
    {
     "data": {
      "application/json": {
       "ascii": false,
       "bar_format": null,
       "colour": null,
       "elapsed": 0.01308298110961914,
       "initial": 0,
       "n": 0,
       "ncols": null,
       "nrows": 24,
       "postfix": null,
       "prefix": "Downloading https://raw.githubusercontent.com/stanfordnlp/stanza-resources/main/resources_1.4.1.json",
       "rate": null,
       "total": 28785,
       "unit": "B",
       "unit_divisor": 1000,
       "unit_scale": true
      },
      "application/vnd.jupyter.widget-view+json": {
       "model_id": "a85c9bc1de404bef95677a29102cc80f",
       "version_major": 2,
       "version_minor": 0
      },
      "text/plain": [
       "Downloading https://raw.githubusercontent.com/stanfordnlp/stanza-resources/main/resources_1.4.1.json:   0%|   …"
      ]
     },
     "metadata": {},
     "output_type": "display_data"
    },
    {
     "name": "stderr",
     "output_type": "stream",
     "text": [
      "2022-09-28 18:19:29 INFO: Loading these models for language: en (English):\n",
      "========================\n",
      "| Processor | Package  |\n",
      "------------------------\n",
      "| tokenize  | combined |\n",
      "| sentiment | sstplus  |\n",
      "========================\n",
      "\n",
      "2022-09-28 18:19:29 INFO: Use device: gpu\n",
      "2022-09-28 18:19:29 INFO: Loading: tokenize\n",
      "2022-09-28 18:19:29 INFO: Loading: sentiment\n",
      "2022-09-28 18:19:30 INFO: Done loading processors!\n",
      "2022-09-28 18:19:30 INFO: Checking for updates to resources.json in case models have been updated.  Note: this behavior can be turned off with download_method=None or download_method=DownloadMethod.REUSE_RESOURCES\n"
     ]
    },
    {
     "data": {
      "application/json": {
       "ascii": false,
       "bar_format": null,
       "colour": null,
       "elapsed": 0.013247013092041016,
       "initial": 0,
       "n": 0,
       "ncols": null,
       "nrows": 24,
       "postfix": null,
       "prefix": "Downloading https://raw.githubusercontent.com/stanfordnlp/stanza-resources/main/resources_1.4.1.json",
       "rate": null,
       "total": 28785,
       "unit": "B",
       "unit_divisor": 1000,
       "unit_scale": true
      },
      "application/vnd.jupyter.widget-view+json": {
       "model_id": "0d189ed48b01476cb90301efd8ba232a",
       "version_major": 2,
       "version_minor": 0
      },
      "text/plain": [
       "Downloading https://raw.githubusercontent.com/stanfordnlp/stanza-resources/main/resources_1.4.1.json:   0%|   …"
      ]
     },
     "metadata": {},
     "output_type": "display_data"
    },
    {
     "name": "stderr",
     "output_type": "stream",
     "text": [
      "2022-09-28 18:19:31 INFO: Loading these models for language: en (English):\n",
      "========================\n",
      "| Processor | Package  |\n",
      "------------------------\n",
      "| tokenize  | combined |\n",
      "| sentiment | sstplus  |\n",
      "========================\n",
      "\n",
      "2022-09-28 18:19:31 INFO: Use device: gpu\n",
      "2022-09-28 18:19:31 INFO: Loading: tokenize\n",
      "2022-09-28 18:19:31 INFO: Loading: sentiment\n",
      "2022-09-28 18:19:31 INFO: Done loading processors!\n",
      "2022-09-28 18:19:32 INFO: Checking for updates to resources.json in case models have been updated.  Note: this behavior can be turned off with download_method=None or download_method=DownloadMethod.REUSE_RESOURCES\n"
     ]
    },
    {
     "data": {
      "application/json": {
       "ascii": false,
       "bar_format": null,
       "colour": null,
       "elapsed": 0.013538837432861328,
       "initial": 0,
       "n": 0,
       "ncols": null,
       "nrows": 24,
       "postfix": null,
       "prefix": "Downloading https://raw.githubusercontent.com/stanfordnlp/stanza-resources/main/resources_1.4.1.json",
       "rate": null,
       "total": 28785,
       "unit": "B",
       "unit_divisor": 1000,
       "unit_scale": true
      },
      "application/vnd.jupyter.widget-view+json": {
       "model_id": "e5bb52b8c68f4e39a83da1c54c55a243",
       "version_major": 2,
       "version_minor": 0
      },
      "text/plain": [
       "Downloading https://raw.githubusercontent.com/stanfordnlp/stanza-resources/main/resources_1.4.1.json:   0%|   …"
      ]
     },
     "metadata": {},
     "output_type": "display_data"
    },
    {
     "name": "stderr",
     "output_type": "stream",
     "text": [
      "2022-09-28 18:19:32 INFO: Loading these models for language: en (English):\n",
      "========================\n",
      "| Processor | Package  |\n",
      "------------------------\n",
      "| tokenize  | combined |\n",
      "| sentiment | sstplus  |\n",
      "========================\n",
      "\n",
      "2022-09-28 18:19:32 INFO: Use device: gpu\n",
      "2022-09-28 18:19:32 INFO: Loading: tokenize\n",
      "2022-09-28 18:19:32 INFO: Loading: sentiment\n",
      "2022-09-28 18:19:33 INFO: Done loading processors!\n",
      "2022-09-28 18:19:34 INFO: Checking for updates to resources.json in case models have been updated.  Note: this behavior can be turned off with download_method=None or download_method=DownloadMethod.REUSE_RESOURCES\n"
     ]
    },
    {
     "data": {
      "application/json": {
       "ascii": false,
       "bar_format": null,
       "colour": null,
       "elapsed": 0.013403892517089844,
       "initial": 0,
       "n": 0,
       "ncols": null,
       "nrows": 24,
       "postfix": null,
       "prefix": "Downloading https://raw.githubusercontent.com/stanfordnlp/stanza-resources/main/resources_1.4.1.json",
       "rate": null,
       "total": 28785,
       "unit": "B",
       "unit_divisor": 1000,
       "unit_scale": true
      },
      "application/vnd.jupyter.widget-view+json": {
       "model_id": "70dd7768cc98428da0e826e77248a810",
       "version_major": 2,
       "version_minor": 0
      },
      "text/plain": [
       "Downloading https://raw.githubusercontent.com/stanfordnlp/stanza-resources/main/resources_1.4.1.json:   0%|   …"
      ]
     },
     "metadata": {},
     "output_type": "display_data"
    },
    {
     "name": "stderr",
     "output_type": "stream",
     "text": [
      "2022-09-28 18:19:34 INFO: Loading these models for language: en (English):\n",
      "========================\n",
      "| Processor | Package  |\n",
      "------------------------\n",
      "| tokenize  | combined |\n",
      "| sentiment | sstplus  |\n",
      "========================\n",
      "\n",
      "2022-09-28 18:19:34 INFO: Use device: gpu\n",
      "2022-09-28 18:19:34 INFO: Loading: tokenize\n",
      "2022-09-28 18:19:34 INFO: Loading: sentiment\n",
      "2022-09-28 18:19:35 INFO: Done loading processors!\n",
      "2022-09-28 18:19:35 INFO: Checking for updates to resources.json in case models have been updated.  Note: this behavior can be turned off with download_method=None or download_method=DownloadMethod.REUSE_RESOURCES\n"
     ]
    },
    {
     "data": {
      "application/json": {
       "ascii": false,
       "bar_format": null,
       "colour": null,
       "elapsed": 0.013292551040649414,
       "initial": 0,
       "n": 0,
       "ncols": null,
       "nrows": 24,
       "postfix": null,
       "prefix": "Downloading https://raw.githubusercontent.com/stanfordnlp/stanza-resources/main/resources_1.4.1.json",
       "rate": null,
       "total": 28785,
       "unit": "B",
       "unit_divisor": 1000,
       "unit_scale": true
      },
      "application/vnd.jupyter.widget-view+json": {
       "model_id": "b048e8e5d7234b5eb6cd4453fe98fc2d",
       "version_major": 2,
       "version_minor": 0
      },
      "text/plain": [
       "Downloading https://raw.githubusercontent.com/stanfordnlp/stanza-resources/main/resources_1.4.1.json:   0%|   …"
      ]
     },
     "metadata": {},
     "output_type": "display_data"
    },
    {
     "name": "stderr",
     "output_type": "stream",
     "text": [
      "2022-09-28 18:19:36 INFO: Loading these models for language: en (English):\n",
      "========================\n",
      "| Processor | Package  |\n",
      "------------------------\n",
      "| tokenize  | combined |\n",
      "| sentiment | sstplus  |\n",
      "========================\n",
      "\n",
      "2022-09-28 18:19:36 INFO: Use device: gpu\n",
      "2022-09-28 18:19:36 INFO: Loading: tokenize\n",
      "2022-09-28 18:19:36 INFO: Loading: sentiment\n",
      "2022-09-28 18:19:36 INFO: Done loading processors!\n",
      "2022-09-28 18:19:37 INFO: Checking for updates to resources.json in case models have been updated.  Note: this behavior can be turned off with download_method=None or download_method=DownloadMethod.REUSE_RESOURCES\n"
     ]
    },
    {
     "data": {
      "application/json": {
       "ascii": false,
       "bar_format": null,
       "colour": null,
       "elapsed": 0.013215303421020508,
       "initial": 0,
       "n": 0,
       "ncols": null,
       "nrows": 24,
       "postfix": null,
       "prefix": "Downloading https://raw.githubusercontent.com/stanfordnlp/stanza-resources/main/resources_1.4.1.json",
       "rate": null,
       "total": 28785,
       "unit": "B",
       "unit_divisor": 1000,
       "unit_scale": true
      },
      "application/vnd.jupyter.widget-view+json": {
       "model_id": "99e506bba277475295f4a260f7ce3ce5",
       "version_major": 2,
       "version_minor": 0
      },
      "text/plain": [
       "Downloading https://raw.githubusercontent.com/stanfordnlp/stanza-resources/main/resources_1.4.1.json:   0%|   …"
      ]
     },
     "metadata": {},
     "output_type": "display_data"
    },
    {
     "name": "stderr",
     "output_type": "stream",
     "text": [
      "2022-09-28 18:19:37 INFO: Loading these models for language: en (English):\n",
      "========================\n",
      "| Processor | Package  |\n",
      "------------------------\n",
      "| tokenize  | combined |\n",
      "| sentiment | sstplus  |\n",
      "========================\n",
      "\n",
      "2022-09-28 18:19:37 INFO: Use device: gpu\n",
      "2022-09-28 18:19:37 INFO: Loading: tokenize\n",
      "2022-09-28 18:19:37 INFO: Loading: sentiment\n",
      "2022-09-28 18:19:38 INFO: Done loading processors!\n",
      "2022-09-28 18:19:39 INFO: Checking for updates to resources.json in case models have been updated.  Note: this behavior can be turned off with download_method=None or download_method=DownloadMethod.REUSE_RESOURCES\n"
     ]
    },
    {
     "data": {
      "application/json": {
       "ascii": false,
       "bar_format": null,
       "colour": null,
       "elapsed": 0.013194561004638672,
       "initial": 0,
       "n": 0,
       "ncols": null,
       "nrows": 24,
       "postfix": null,
       "prefix": "Downloading https://raw.githubusercontent.com/stanfordnlp/stanza-resources/main/resources_1.4.1.json",
       "rate": null,
       "total": 28785,
       "unit": "B",
       "unit_divisor": 1000,
       "unit_scale": true
      },
      "application/vnd.jupyter.widget-view+json": {
       "model_id": "91ad50e031814ed09eeff7b854fda686",
       "version_major": 2,
       "version_minor": 0
      },
      "text/plain": [
       "Downloading https://raw.githubusercontent.com/stanfordnlp/stanza-resources/main/resources_1.4.1.json:   0%|   …"
      ]
     },
     "metadata": {},
     "output_type": "display_data"
    },
    {
     "name": "stderr",
     "output_type": "stream",
     "text": [
      "2022-09-28 18:19:40 INFO: Loading these models for language: en (English):\n",
      "========================\n",
      "| Processor | Package  |\n",
      "------------------------\n",
      "| tokenize  | combined |\n",
      "| sentiment | sstplus  |\n",
      "========================\n",
      "\n",
      "2022-09-28 18:19:40 INFO: Use device: gpu\n",
      "2022-09-28 18:19:40 INFO: Loading: tokenize\n",
      "2022-09-28 18:19:40 INFO: Loading: sentiment\n",
      "2022-09-28 18:19:40 INFO: Done loading processors!\n",
      "2022-09-28 18:19:41 INFO: Checking for updates to resources.json in case models have been updated.  Note: this behavior can be turned off with download_method=None or download_method=DownloadMethod.REUSE_RESOURCES\n"
     ]
    },
    {
     "data": {
      "application/json": {
       "ascii": false,
       "bar_format": null,
       "colour": null,
       "elapsed": 0.016292810440063477,
       "initial": 0,
       "n": 0,
       "ncols": null,
       "nrows": 24,
       "postfix": null,
       "prefix": "Downloading https://raw.githubusercontent.com/stanfordnlp/stanza-resources/main/resources_1.4.1.json",
       "rate": null,
       "total": 28785,
       "unit": "B",
       "unit_divisor": 1000,
       "unit_scale": true
      },
      "application/vnd.jupyter.widget-view+json": {
       "model_id": "bb8992bc47b04362bb954a96354a548a",
       "version_major": 2,
       "version_minor": 0
      },
      "text/plain": [
       "Downloading https://raw.githubusercontent.com/stanfordnlp/stanza-resources/main/resources_1.4.1.json:   0%|   …"
      ]
     },
     "metadata": {},
     "output_type": "display_data"
    },
    {
     "name": "stderr",
     "output_type": "stream",
     "text": [
      "2022-09-28 18:19:41 INFO: Loading these models for language: en (English):\n",
      "========================\n",
      "| Processor | Package  |\n",
      "------------------------\n",
      "| tokenize  | combined |\n",
      "| sentiment | sstplus  |\n",
      "========================\n",
      "\n",
      "2022-09-28 18:19:41 INFO: Use device: gpu\n",
      "2022-09-28 18:19:41 INFO: Loading: tokenize\n",
      "2022-09-28 18:19:41 INFO: Loading: sentiment\n",
      "2022-09-28 18:19:42 INFO: Done loading processors!\n",
      "2022-09-28 18:19:42 INFO: Checking for updates to resources.json in case models have been updated.  Note: this behavior can be turned off with download_method=None or download_method=DownloadMethod.REUSE_RESOURCES\n"
     ]
    },
    {
     "data": {
      "application/json": {
       "ascii": false,
       "bar_format": null,
       "colour": null,
       "elapsed": 0.014788627624511719,
       "initial": 0,
       "n": 0,
       "ncols": null,
       "nrows": 24,
       "postfix": null,
       "prefix": "Downloading https://raw.githubusercontent.com/stanfordnlp/stanza-resources/main/resources_1.4.1.json",
       "rate": null,
       "total": 28785,
       "unit": "B",
       "unit_divisor": 1000,
       "unit_scale": true
      },
      "application/vnd.jupyter.widget-view+json": {
       "model_id": "1e6b363b8fc04de384a6a6af94170f10",
       "version_major": 2,
       "version_minor": 0
      },
      "text/plain": [
       "Downloading https://raw.githubusercontent.com/stanfordnlp/stanza-resources/main/resources_1.4.1.json:   0%|   …"
      ]
     },
     "metadata": {},
     "output_type": "display_data"
    },
    {
     "name": "stderr",
     "output_type": "stream",
     "text": [
      "2022-09-28 18:19:43 INFO: Loading these models for language: en (English):\n",
      "========================\n",
      "| Processor | Package  |\n",
      "------------------------\n",
      "| tokenize  | combined |\n",
      "| sentiment | sstplus  |\n",
      "========================\n",
      "\n",
      "2022-09-28 18:19:43 INFO: Use device: gpu\n",
      "2022-09-28 18:19:43 INFO: Loading: tokenize\n",
      "2022-09-28 18:19:43 INFO: Loading: sentiment\n",
      "2022-09-28 18:19:43 INFO: Done loading processors!\n",
      "2022-09-28 18:19:44 INFO: Checking for updates to resources.json in case models have been updated.  Note: this behavior can be turned off with download_method=None or download_method=DownloadMethod.REUSE_RESOURCES\n"
     ]
    },
    {
     "data": {
      "application/json": {
       "ascii": false,
       "bar_format": null,
       "colour": null,
       "elapsed": 0.013537883758544922,
       "initial": 0,
       "n": 0,
       "ncols": null,
       "nrows": 24,
       "postfix": null,
       "prefix": "Downloading https://raw.githubusercontent.com/stanfordnlp/stanza-resources/main/resources_1.4.1.json",
       "rate": null,
       "total": 28785,
       "unit": "B",
       "unit_divisor": 1000,
       "unit_scale": true
      },
      "application/vnd.jupyter.widget-view+json": {
       "model_id": "4c32719ce122453089e5c0198c9318fd",
       "version_major": 2,
       "version_minor": 0
      },
      "text/plain": [
       "Downloading https://raw.githubusercontent.com/stanfordnlp/stanza-resources/main/resources_1.4.1.json:   0%|   …"
      ]
     },
     "metadata": {},
     "output_type": "display_data"
    },
    {
     "name": "stderr",
     "output_type": "stream",
     "text": [
      "2022-09-28 18:19:44 INFO: Loading these models for language: en (English):\n",
      "========================\n",
      "| Processor | Package  |\n",
      "------------------------\n",
      "| tokenize  | combined |\n",
      "| sentiment | sstplus  |\n",
      "========================\n",
      "\n",
      "2022-09-28 18:19:44 INFO: Use device: gpu\n",
      "2022-09-28 18:19:44 INFO: Loading: tokenize\n",
      "2022-09-28 18:19:44 INFO: Loading: sentiment\n",
      "2022-09-28 18:19:45 INFO: Done loading processors!\n",
      "2022-09-28 18:19:46 INFO: Checking for updates to resources.json in case models have been updated.  Note: this behavior can be turned off with download_method=None or download_method=DownloadMethod.REUSE_RESOURCES\n"
     ]
    },
    {
     "data": {
      "application/json": {
       "ascii": false,
       "bar_format": null,
       "colour": null,
       "elapsed": 0.013618230819702148,
       "initial": 0,
       "n": 0,
       "ncols": null,
       "nrows": 24,
       "postfix": null,
       "prefix": "Downloading https://raw.githubusercontent.com/stanfordnlp/stanza-resources/main/resources_1.4.1.json",
       "rate": null,
       "total": 28785,
       "unit": "B",
       "unit_divisor": 1000,
       "unit_scale": true
      },
      "application/vnd.jupyter.widget-view+json": {
       "model_id": "039528e498324e8f89620bb8a86b25e5",
       "version_major": 2,
       "version_minor": 0
      },
      "text/plain": [
       "Downloading https://raw.githubusercontent.com/stanfordnlp/stanza-resources/main/resources_1.4.1.json:   0%|   …"
      ]
     },
     "metadata": {},
     "output_type": "display_data"
    },
    {
     "name": "stderr",
     "output_type": "stream",
     "text": [
      "2022-09-28 18:19:46 INFO: Loading these models for language: en (English):\n",
      "========================\n",
      "| Processor | Package  |\n",
      "------------------------\n",
      "| tokenize  | combined |\n",
      "| sentiment | sstplus  |\n",
      "========================\n",
      "\n",
      "2022-09-28 18:19:46 INFO: Use device: gpu\n",
      "2022-09-28 18:19:46 INFO: Loading: tokenize\n",
      "2022-09-28 18:19:46 INFO: Loading: sentiment\n",
      "2022-09-28 18:19:47 INFO: Done loading processors!\n",
      "2022-09-28 18:19:47 INFO: Checking for updates to resources.json in case models have been updated.  Note: this behavior can be turned off with download_method=None or download_method=DownloadMethod.REUSE_RESOURCES\n"
     ]
    },
    {
     "data": {
      "application/json": {
       "ascii": false,
       "bar_format": null,
       "colour": null,
       "elapsed": 0.013538122177124023,
       "initial": 0,
       "n": 0,
       "ncols": null,
       "nrows": 24,
       "postfix": null,
       "prefix": "Downloading https://raw.githubusercontent.com/stanfordnlp/stanza-resources/main/resources_1.4.1.json",
       "rate": null,
       "total": 28785,
       "unit": "B",
       "unit_divisor": 1000,
       "unit_scale": true
      },
      "application/vnd.jupyter.widget-view+json": {
       "model_id": "627ea6bc68904cd5ac4ef4fbe916cbe2",
       "version_major": 2,
       "version_minor": 0
      },
      "text/plain": [
       "Downloading https://raw.githubusercontent.com/stanfordnlp/stanza-resources/main/resources_1.4.1.json:   0%|   …"
      ]
     },
     "metadata": {},
     "output_type": "display_data"
    },
    {
     "name": "stderr",
     "output_type": "stream",
     "text": [
      "2022-09-28 18:19:48 INFO: Loading these models for language: en (English):\n",
      "========================\n",
      "| Processor | Package  |\n",
      "------------------------\n",
      "| tokenize  | combined |\n",
      "| sentiment | sstplus  |\n",
      "========================\n",
      "\n",
      "2022-09-28 18:19:48 INFO: Use device: gpu\n",
      "2022-09-28 18:19:48 INFO: Loading: tokenize\n",
      "2022-09-28 18:19:48 INFO: Loading: sentiment\n",
      "2022-09-28 18:19:48 INFO: Done loading processors!\n",
      "2022-09-28 18:19:49 INFO: Checking for updates to resources.json in case models have been updated.  Note: this behavior can be turned off with download_method=None or download_method=DownloadMethod.REUSE_RESOURCES\n"
     ]
    },
    {
     "data": {
      "application/json": {
       "ascii": false,
       "bar_format": null,
       "colour": null,
       "elapsed": 0.013523578643798828,
       "initial": 0,
       "n": 0,
       "ncols": null,
       "nrows": 24,
       "postfix": null,
       "prefix": "Downloading https://raw.githubusercontent.com/stanfordnlp/stanza-resources/main/resources_1.4.1.json",
       "rate": null,
       "total": 28785,
       "unit": "B",
       "unit_divisor": 1000,
       "unit_scale": true
      },
      "application/vnd.jupyter.widget-view+json": {
       "model_id": "6ed639c819af422db0fe295adf257e97",
       "version_major": 2,
       "version_minor": 0
      },
      "text/plain": [
       "Downloading https://raw.githubusercontent.com/stanfordnlp/stanza-resources/main/resources_1.4.1.json:   0%|   …"
      ]
     },
     "metadata": {},
     "output_type": "display_data"
    },
    {
     "name": "stderr",
     "output_type": "stream",
     "text": [
      "2022-09-28 18:19:49 INFO: Loading these models for language: en (English):\n",
      "========================\n",
      "| Processor | Package  |\n",
      "------------------------\n",
      "| tokenize  | combined |\n",
      "| sentiment | sstplus  |\n",
      "========================\n",
      "\n",
      "2022-09-28 18:19:49 INFO: Use device: gpu\n",
      "2022-09-28 18:19:49 INFO: Loading: tokenize\n",
      "2022-09-28 18:19:49 INFO: Loading: sentiment\n",
      "2022-09-28 18:19:50 INFO: Done loading processors!\n",
      "2022-09-28 18:19:50 INFO: Checking for updates to resources.json in case models have been updated.  Note: this behavior can be turned off with download_method=None or download_method=DownloadMethod.REUSE_RESOURCES\n"
     ]
    },
    {
     "data": {
      "application/json": {
       "ascii": false,
       "bar_format": null,
       "colour": null,
       "elapsed": 0.013564586639404297,
       "initial": 0,
       "n": 0,
       "ncols": null,
       "nrows": 24,
       "postfix": null,
       "prefix": "Downloading https://raw.githubusercontent.com/stanfordnlp/stanza-resources/main/resources_1.4.1.json",
       "rate": null,
       "total": 28785,
       "unit": "B",
       "unit_divisor": 1000,
       "unit_scale": true
      },
      "application/vnd.jupyter.widget-view+json": {
       "model_id": "8fffee8680c340c29ccf546846a2caf2",
       "version_major": 2,
       "version_minor": 0
      },
      "text/plain": [
       "Downloading https://raw.githubusercontent.com/stanfordnlp/stanza-resources/main/resources_1.4.1.json:   0%|   …"
      ]
     },
     "metadata": {},
     "output_type": "display_data"
    },
    {
     "name": "stderr",
     "output_type": "stream",
     "text": [
      "2022-09-28 18:19:51 INFO: Loading these models for language: en (English):\n",
      "========================\n",
      "| Processor | Package  |\n",
      "------------------------\n",
      "| tokenize  | combined |\n",
      "| sentiment | sstplus  |\n",
      "========================\n",
      "\n",
      "2022-09-28 18:19:51 INFO: Use device: gpu\n",
      "2022-09-28 18:19:51 INFO: Loading: tokenize\n",
      "2022-09-28 18:19:51 INFO: Loading: sentiment\n",
      "2022-09-28 18:19:51 INFO: Done loading processors!\n",
      "2022-09-28 18:19:53 INFO: Checking for updates to resources.json in case models have been updated.  Note: this behavior can be turned off with download_method=None or download_method=DownloadMethod.REUSE_RESOURCES\n"
     ]
    },
    {
     "data": {
      "application/json": {
       "ascii": false,
       "bar_format": null,
       "colour": null,
       "elapsed": 0.013863325119018555,
       "initial": 0,
       "n": 0,
       "ncols": null,
       "nrows": 24,
       "postfix": null,
       "prefix": "Downloading https://raw.githubusercontent.com/stanfordnlp/stanza-resources/main/resources_1.4.1.json",
       "rate": null,
       "total": 28785,
       "unit": "B",
       "unit_divisor": 1000,
       "unit_scale": true
      },
      "application/vnd.jupyter.widget-view+json": {
       "model_id": "5dfe0f73a63a4386a6b41b19024350ed",
       "version_major": 2,
       "version_minor": 0
      },
      "text/plain": [
       "Downloading https://raw.githubusercontent.com/stanfordnlp/stanza-resources/main/resources_1.4.1.json:   0%|   …"
      ]
     },
     "metadata": {},
     "output_type": "display_data"
    },
    {
     "name": "stderr",
     "output_type": "stream",
     "text": [
      "2022-09-28 18:19:53 INFO: Loading these models for language: en (English):\n",
      "========================\n",
      "| Processor | Package  |\n",
      "------------------------\n",
      "| tokenize  | combined |\n",
      "| sentiment | sstplus  |\n",
      "========================\n",
      "\n",
      "2022-09-28 18:19:53 INFO: Use device: gpu\n",
      "2022-09-28 18:19:53 INFO: Loading: tokenize\n",
      "2022-09-28 18:19:53 INFO: Loading: sentiment\n",
      "2022-09-28 18:19:54 INFO: Done loading processors!\n",
      "2022-09-28 18:19:55 INFO: Checking for updates to resources.json in case models have been updated.  Note: this behavior can be turned off with download_method=None or download_method=DownloadMethod.REUSE_RESOURCES\n"
     ]
    },
    {
     "data": {
      "application/json": {
       "ascii": false,
       "bar_format": null,
       "colour": null,
       "elapsed": 0.013266324996948242,
       "initial": 0,
       "n": 0,
       "ncols": null,
       "nrows": 24,
       "postfix": null,
       "prefix": "Downloading https://raw.githubusercontent.com/stanfordnlp/stanza-resources/main/resources_1.4.1.json",
       "rate": null,
       "total": 28785,
       "unit": "B",
       "unit_divisor": 1000,
       "unit_scale": true
      },
      "application/vnd.jupyter.widget-view+json": {
       "model_id": "b6684d473ba645e79b332463280febe3",
       "version_major": 2,
       "version_minor": 0
      },
      "text/plain": [
       "Downloading https://raw.githubusercontent.com/stanfordnlp/stanza-resources/main/resources_1.4.1.json:   0%|   …"
      ]
     },
     "metadata": {},
     "output_type": "display_data"
    },
    {
     "name": "stderr",
     "output_type": "stream",
     "text": [
      "2022-09-28 18:19:56 INFO: Loading these models for language: en (English):\n",
      "========================\n",
      "| Processor | Package  |\n",
      "------------------------\n",
      "| tokenize  | combined |\n",
      "| sentiment | sstplus  |\n",
      "========================\n",
      "\n",
      "2022-09-28 18:19:56 INFO: Use device: gpu\n",
      "2022-09-28 18:19:56 INFO: Loading: tokenize\n",
      "2022-09-28 18:19:56 INFO: Loading: sentiment\n",
      "2022-09-28 18:19:57 INFO: Done loading processors!\n",
      "2022-09-28 18:19:58 INFO: Checking for updates to resources.json in case models have been updated.  Note: this behavior can be turned off with download_method=None or download_method=DownloadMethod.REUSE_RESOURCES\n"
     ]
    },
    {
     "data": {
      "application/json": {
       "ascii": false,
       "bar_format": null,
       "colour": null,
       "elapsed": 0.013240575790405273,
       "initial": 0,
       "n": 0,
       "ncols": null,
       "nrows": 24,
       "postfix": null,
       "prefix": "Downloading https://raw.githubusercontent.com/stanfordnlp/stanza-resources/main/resources_1.4.1.json",
       "rate": null,
       "total": 28785,
       "unit": "B",
       "unit_divisor": 1000,
       "unit_scale": true
      },
      "application/vnd.jupyter.widget-view+json": {
       "model_id": "01fb801b4d8a42369d1c2d3483a17b10",
       "version_major": 2,
       "version_minor": 0
      },
      "text/plain": [
       "Downloading https://raw.githubusercontent.com/stanfordnlp/stanza-resources/main/resources_1.4.1.json:   0%|   …"
      ]
     },
     "metadata": {},
     "output_type": "display_data"
    },
    {
     "name": "stderr",
     "output_type": "stream",
     "text": [
      "2022-09-28 18:19:58 INFO: Loading these models for language: en (English):\n",
      "========================\n",
      "| Processor | Package  |\n",
      "------------------------\n",
      "| tokenize  | combined |\n",
      "| sentiment | sstplus  |\n",
      "========================\n",
      "\n",
      "2022-09-28 18:19:58 INFO: Use device: gpu\n",
      "2022-09-28 18:19:58 INFO: Loading: tokenize\n",
      "2022-09-28 18:19:58 INFO: Loading: sentiment\n",
      "2022-09-28 18:19:59 INFO: Done loading processors!\n",
      "2022-09-28 18:19:59 INFO: Checking for updates to resources.json in case models have been updated.  Note: this behavior can be turned off with download_method=None or download_method=DownloadMethod.REUSE_RESOURCES\n"
     ]
    },
    {
     "data": {
      "application/json": {
       "ascii": false,
       "bar_format": null,
       "colour": null,
       "elapsed": 0.013401508331298828,
       "initial": 0,
       "n": 0,
       "ncols": null,
       "nrows": 24,
       "postfix": null,
       "prefix": "Downloading https://raw.githubusercontent.com/stanfordnlp/stanza-resources/main/resources_1.4.1.json",
       "rate": null,
       "total": 28785,
       "unit": "B",
       "unit_divisor": 1000,
       "unit_scale": true
      },
      "application/vnd.jupyter.widget-view+json": {
       "model_id": "13a0167b955447a181892b88277536f9",
       "version_major": 2,
       "version_minor": 0
      },
      "text/plain": [
       "Downloading https://raw.githubusercontent.com/stanfordnlp/stanza-resources/main/resources_1.4.1.json:   0%|   …"
      ]
     },
     "metadata": {},
     "output_type": "display_data"
    },
    {
     "name": "stderr",
     "output_type": "stream",
     "text": [
      "2022-09-28 18:20:00 INFO: Loading these models for language: en (English):\n",
      "========================\n",
      "| Processor | Package  |\n",
      "------------------------\n",
      "| tokenize  | combined |\n",
      "| sentiment | sstplus  |\n",
      "========================\n",
      "\n",
      "2022-09-28 18:20:00 INFO: Use device: gpu\n",
      "2022-09-28 18:20:00 INFO: Loading: tokenize\n",
      "2022-09-28 18:20:00 INFO: Loading: sentiment\n",
      "2022-09-28 18:20:00 INFO: Done loading processors!\n",
      "2022-09-28 18:20:01 INFO: Checking for updates to resources.json in case models have been updated.  Note: this behavior can be turned off with download_method=None or download_method=DownloadMethod.REUSE_RESOURCES\n"
     ]
    },
    {
     "data": {
      "application/json": {
       "ascii": false,
       "bar_format": null,
       "colour": null,
       "elapsed": 0.01321554183959961,
       "initial": 0,
       "n": 0,
       "ncols": null,
       "nrows": 24,
       "postfix": null,
       "prefix": "Downloading https://raw.githubusercontent.com/stanfordnlp/stanza-resources/main/resources_1.4.1.json",
       "rate": null,
       "total": 28785,
       "unit": "B",
       "unit_divisor": 1000,
       "unit_scale": true
      },
      "application/vnd.jupyter.widget-view+json": {
       "model_id": "b748b3d796fb4861b7d7d987baff22e5",
       "version_major": 2,
       "version_minor": 0
      },
      "text/plain": [
       "Downloading https://raw.githubusercontent.com/stanfordnlp/stanza-resources/main/resources_1.4.1.json:   0%|   …"
      ]
     },
     "metadata": {},
     "output_type": "display_data"
    },
    {
     "name": "stderr",
     "output_type": "stream",
     "text": [
      "2022-09-28 18:20:02 INFO: Loading these models for language: en (English):\n",
      "========================\n",
      "| Processor | Package  |\n",
      "------------------------\n",
      "| tokenize  | combined |\n",
      "| sentiment | sstplus  |\n",
      "========================\n",
      "\n",
      "2022-09-28 18:20:02 INFO: Use device: gpu\n",
      "2022-09-28 18:20:02 INFO: Loading: tokenize\n",
      "2022-09-28 18:20:02 INFO: Loading: sentiment\n",
      "2022-09-28 18:20:02 INFO: Done loading processors!\n",
      "2022-09-28 18:20:03 INFO: Checking for updates to resources.json in case models have been updated.  Note: this behavior can be turned off with download_method=None or download_method=DownloadMethod.REUSE_RESOURCES\n"
     ]
    },
    {
     "data": {
      "application/json": {
       "ascii": false,
       "bar_format": null,
       "colour": null,
       "elapsed": 0.013561487197875977,
       "initial": 0,
       "n": 0,
       "ncols": null,
       "nrows": 24,
       "postfix": null,
       "prefix": "Downloading https://raw.githubusercontent.com/stanfordnlp/stanza-resources/main/resources_1.4.1.json",
       "rate": null,
       "total": 28785,
       "unit": "B",
       "unit_divisor": 1000,
       "unit_scale": true
      },
      "application/vnd.jupyter.widget-view+json": {
       "model_id": "14c7e5b3f8f24f80be18a17bf9888414",
       "version_major": 2,
       "version_minor": 0
      },
      "text/plain": [
       "Downloading https://raw.githubusercontent.com/stanfordnlp/stanza-resources/main/resources_1.4.1.json:   0%|   …"
      ]
     },
     "metadata": {},
     "output_type": "display_data"
    },
    {
     "name": "stderr",
     "output_type": "stream",
     "text": [
      "2022-09-28 18:20:03 INFO: Loading these models for language: en (English):\n",
      "========================\n",
      "| Processor | Package  |\n",
      "------------------------\n",
      "| tokenize  | combined |\n",
      "| sentiment | sstplus  |\n",
      "========================\n",
      "\n",
      "2022-09-28 18:20:03 INFO: Use device: gpu\n",
      "2022-09-28 18:20:03 INFO: Loading: tokenize\n",
      "2022-09-28 18:20:03 INFO: Loading: sentiment\n",
      "2022-09-28 18:20:04 INFO: Done loading processors!\n",
      "2022-09-28 18:20:05 INFO: Checking for updates to resources.json in case models have been updated.  Note: this behavior can be turned off with download_method=None or download_method=DownloadMethod.REUSE_RESOURCES\n"
     ]
    },
    {
     "data": {
      "application/json": {
       "ascii": false,
       "bar_format": null,
       "colour": null,
       "elapsed": 0.016144514083862305,
       "initial": 0,
       "n": 0,
       "ncols": null,
       "nrows": 24,
       "postfix": null,
       "prefix": "Downloading https://raw.githubusercontent.com/stanfordnlp/stanza-resources/main/resources_1.4.1.json",
       "rate": null,
       "total": 28785,
       "unit": "B",
       "unit_divisor": 1000,
       "unit_scale": true
      },
      "application/vnd.jupyter.widget-view+json": {
       "model_id": "1dce529ea2574be48be6f81c9882e9a8",
       "version_major": 2,
       "version_minor": 0
      },
      "text/plain": [
       "Downloading https://raw.githubusercontent.com/stanfordnlp/stanza-resources/main/resources_1.4.1.json:   0%|   …"
      ]
     },
     "metadata": {},
     "output_type": "display_data"
    },
    {
     "name": "stderr",
     "output_type": "stream",
     "text": [
      "2022-09-28 18:20:05 INFO: Loading these models for language: en (English):\n",
      "========================\n",
      "| Processor | Package  |\n",
      "------------------------\n",
      "| tokenize  | combined |\n",
      "| sentiment | sstplus  |\n",
      "========================\n",
      "\n",
      "2022-09-28 18:20:05 INFO: Use device: gpu\n",
      "2022-09-28 18:20:05 INFO: Loading: tokenize\n",
      "2022-09-28 18:20:05 INFO: Loading: sentiment\n",
      "2022-09-28 18:20:06 INFO: Done loading processors!\n",
      "2022-09-28 18:20:06 INFO: Checking for updates to resources.json in case models have been updated.  Note: this behavior can be turned off with download_method=None or download_method=DownloadMethod.REUSE_RESOURCES\n"
     ]
    },
    {
     "data": {
      "application/json": {
       "ascii": false,
       "bar_format": null,
       "colour": null,
       "elapsed": 0.016516923904418945,
       "initial": 0,
       "n": 0,
       "ncols": null,
       "nrows": 24,
       "postfix": null,
       "prefix": "Downloading https://raw.githubusercontent.com/stanfordnlp/stanza-resources/main/resources_1.4.1.json",
       "rate": null,
       "total": 28785,
       "unit": "B",
       "unit_divisor": 1000,
       "unit_scale": true
      },
      "application/vnd.jupyter.widget-view+json": {
       "model_id": "59821780949f4b5288faafe1be97233b",
       "version_major": 2,
       "version_minor": 0
      },
      "text/plain": [
       "Downloading https://raw.githubusercontent.com/stanfordnlp/stanza-resources/main/resources_1.4.1.json:   0%|   …"
      ]
     },
     "metadata": {},
     "output_type": "display_data"
    },
    {
     "name": "stderr",
     "output_type": "stream",
     "text": [
      "2022-09-28 18:20:07 INFO: Loading these models for language: en (English):\n",
      "========================\n",
      "| Processor | Package  |\n",
      "------------------------\n",
      "| tokenize  | combined |\n",
      "| sentiment | sstplus  |\n",
      "========================\n",
      "\n",
      "2022-09-28 18:20:07 INFO: Use device: gpu\n",
      "2022-09-28 18:20:07 INFO: Loading: tokenize\n",
      "2022-09-28 18:20:07 INFO: Loading: sentiment\n",
      "2022-09-28 18:20:07 INFO: Done loading processors!\n",
      "2022-09-28 18:20:08 INFO: Checking for updates to resources.json in case models have been updated.  Note: this behavior can be turned off with download_method=None or download_method=DownloadMethod.REUSE_RESOURCES\n"
     ]
    },
    {
     "data": {
      "application/json": {
       "ascii": false,
       "bar_format": null,
       "colour": null,
       "elapsed": 0.013578653335571289,
       "initial": 0,
       "n": 0,
       "ncols": null,
       "nrows": 24,
       "postfix": null,
       "prefix": "Downloading https://raw.githubusercontent.com/stanfordnlp/stanza-resources/main/resources_1.4.1.json",
       "rate": null,
       "total": 28785,
       "unit": "B",
       "unit_divisor": 1000,
       "unit_scale": true
      },
      "application/vnd.jupyter.widget-view+json": {
       "model_id": "f03e4e37754b4bd7b5f9a5d6aca56f56",
       "version_major": 2,
       "version_minor": 0
      },
      "text/plain": [
       "Downloading https://raw.githubusercontent.com/stanfordnlp/stanza-resources/main/resources_1.4.1.json:   0%|   …"
      ]
     },
     "metadata": {},
     "output_type": "display_data"
    },
    {
     "name": "stderr",
     "output_type": "stream",
     "text": [
      "2022-09-28 18:20:08 INFO: Loading these models for language: en (English):\n",
      "========================\n",
      "| Processor | Package  |\n",
      "------------------------\n",
      "| tokenize  | combined |\n",
      "| sentiment | sstplus  |\n",
      "========================\n",
      "\n",
      "2022-09-28 18:20:08 INFO: Use device: gpu\n",
      "2022-09-28 18:20:08 INFO: Loading: tokenize\n",
      "2022-09-28 18:20:08 INFO: Loading: sentiment\n",
      "2022-09-28 18:20:09 INFO: Done loading processors!\n",
      "2022-09-28 18:20:09 INFO: Checking for updates to resources.json in case models have been updated.  Note: this behavior can be turned off with download_method=None or download_method=DownloadMethod.REUSE_RESOURCES\n"
     ]
    },
    {
     "data": {
      "application/json": {
       "ascii": false,
       "bar_format": null,
       "colour": null,
       "elapsed": 0.013472318649291992,
       "initial": 0,
       "n": 0,
       "ncols": null,
       "nrows": 24,
       "postfix": null,
       "prefix": "Downloading https://raw.githubusercontent.com/stanfordnlp/stanza-resources/main/resources_1.4.1.json",
       "rate": null,
       "total": 28785,
       "unit": "B",
       "unit_divisor": 1000,
       "unit_scale": true
      },
      "application/vnd.jupyter.widget-view+json": {
       "model_id": "2b06b69d01f64707919edea4a755d7e6",
       "version_major": 2,
       "version_minor": 0
      },
      "text/plain": [
       "Downloading https://raw.githubusercontent.com/stanfordnlp/stanza-resources/main/resources_1.4.1.json:   0%|   …"
      ]
     },
     "metadata": {},
     "output_type": "display_data"
    },
    {
     "name": "stderr",
     "output_type": "stream",
     "text": [
      "2022-09-28 18:20:10 INFO: Loading these models for language: en (English):\n",
      "========================\n",
      "| Processor | Package  |\n",
      "------------------------\n",
      "| tokenize  | combined |\n",
      "| sentiment | sstplus  |\n",
      "========================\n",
      "\n",
      "2022-09-28 18:20:10 INFO: Use device: gpu\n",
      "2022-09-28 18:20:10 INFO: Loading: tokenize\n",
      "2022-09-28 18:20:10 INFO: Loading: sentiment\n",
      "2022-09-28 18:20:10 INFO: Done loading processors!\n",
      "2022-09-28 18:20:11 INFO: Checking for updates to resources.json in case models have been updated.  Note: this behavior can be turned off with download_method=None or download_method=DownloadMethod.REUSE_RESOURCES\n"
     ]
    },
    {
     "data": {
      "application/json": {
       "ascii": false,
       "bar_format": null,
       "colour": null,
       "elapsed": 0.013643026351928711,
       "initial": 0,
       "n": 0,
       "ncols": null,
       "nrows": 24,
       "postfix": null,
       "prefix": "Downloading https://raw.githubusercontent.com/stanfordnlp/stanza-resources/main/resources_1.4.1.json",
       "rate": null,
       "total": 28785,
       "unit": "B",
       "unit_divisor": 1000,
       "unit_scale": true
      },
      "application/vnd.jupyter.widget-view+json": {
       "model_id": "35a745c3d8cc4f5bb044cc6a350aa498",
       "version_major": 2,
       "version_minor": 0
      },
      "text/plain": [
       "Downloading https://raw.githubusercontent.com/stanfordnlp/stanza-resources/main/resources_1.4.1.json:   0%|   …"
      ]
     },
     "metadata": {},
     "output_type": "display_data"
    },
    {
     "name": "stderr",
     "output_type": "stream",
     "text": [
      "2022-09-28 18:20:11 INFO: Loading these models for language: en (English):\n",
      "========================\n",
      "| Processor | Package  |\n",
      "------------------------\n",
      "| tokenize  | combined |\n",
      "| sentiment | sstplus  |\n",
      "========================\n",
      "\n",
      "2022-09-28 18:20:11 INFO: Use device: gpu\n",
      "2022-09-28 18:20:11 INFO: Loading: tokenize\n",
      "2022-09-28 18:20:11 INFO: Loading: sentiment\n",
      "2022-09-28 18:20:12 INFO: Done loading processors!\n",
      "2022-09-28 18:20:12 INFO: Checking for updates to resources.json in case models have been updated.  Note: this behavior can be turned off with download_method=None or download_method=DownloadMethod.REUSE_RESOURCES\n"
     ]
    },
    {
     "data": {
      "application/json": {
       "ascii": false,
       "bar_format": null,
       "colour": null,
       "elapsed": 0.013641357421875,
       "initial": 0,
       "n": 0,
       "ncols": null,
       "nrows": 24,
       "postfix": null,
       "prefix": "Downloading https://raw.githubusercontent.com/stanfordnlp/stanza-resources/main/resources_1.4.1.json",
       "rate": null,
       "total": 28785,
       "unit": "B",
       "unit_divisor": 1000,
       "unit_scale": true
      },
      "application/vnd.jupyter.widget-view+json": {
       "model_id": "ae142e033c25404cb3e9e2255e69454b",
       "version_major": 2,
       "version_minor": 0
      },
      "text/plain": [
       "Downloading https://raw.githubusercontent.com/stanfordnlp/stanza-resources/main/resources_1.4.1.json:   0%|   …"
      ]
     },
     "metadata": {},
     "output_type": "display_data"
    },
    {
     "name": "stderr",
     "output_type": "stream",
     "text": [
      "2022-09-28 18:20:13 INFO: Loading these models for language: en (English):\n",
      "========================\n",
      "| Processor | Package  |\n",
      "------------------------\n",
      "| tokenize  | combined |\n",
      "| sentiment | sstplus  |\n",
      "========================\n",
      "\n",
      "2022-09-28 18:20:13 INFO: Use device: gpu\n",
      "2022-09-28 18:20:13 INFO: Loading: tokenize\n",
      "2022-09-28 18:20:13 INFO: Loading: sentiment\n",
      "2022-09-28 18:20:14 INFO: Done loading processors!\n",
      "2022-09-28 18:20:14 INFO: Checking for updates to resources.json in case models have been updated.  Note: this behavior can be turned off with download_method=None or download_method=DownloadMethod.REUSE_RESOURCES\n"
     ]
    },
    {
     "data": {
      "application/json": {
       "ascii": false,
       "bar_format": null,
       "colour": null,
       "elapsed": 0.014249801635742188,
       "initial": 0,
       "n": 0,
       "ncols": null,
       "nrows": 24,
       "postfix": null,
       "prefix": "Downloading https://raw.githubusercontent.com/stanfordnlp/stanza-resources/main/resources_1.4.1.json",
       "rate": null,
       "total": 28785,
       "unit": "B",
       "unit_divisor": 1000,
       "unit_scale": true
      },
      "application/vnd.jupyter.widget-view+json": {
       "model_id": "599dcc68aab14cf8a0ab929c48775a81",
       "version_major": 2,
       "version_minor": 0
      },
      "text/plain": [
       "Downloading https://raw.githubusercontent.com/stanfordnlp/stanza-resources/main/resources_1.4.1.json:   0%|   …"
      ]
     },
     "metadata": {},
     "output_type": "display_data"
    },
    {
     "name": "stderr",
     "output_type": "stream",
     "text": [
      "2022-09-28 18:20:14 INFO: Loading these models for language: en (English):\n",
      "========================\n",
      "| Processor | Package  |\n",
      "------------------------\n",
      "| tokenize  | combined |\n",
      "| sentiment | sstplus  |\n",
      "========================\n",
      "\n",
      "2022-09-28 18:20:14 INFO: Use device: gpu\n",
      "2022-09-28 18:20:14 INFO: Loading: tokenize\n",
      "2022-09-28 18:20:14 INFO: Loading: sentiment\n",
      "2022-09-28 18:20:15 INFO: Done loading processors!\n",
      "2022-09-28 18:20:15 INFO: Checking for updates to resources.json in case models have been updated.  Note: this behavior can be turned off with download_method=None or download_method=DownloadMethod.REUSE_RESOURCES\n"
     ]
    },
    {
     "data": {
      "application/json": {
       "ascii": false,
       "bar_format": null,
       "colour": null,
       "elapsed": 0.01364278793334961,
       "initial": 0,
       "n": 0,
       "ncols": null,
       "nrows": 24,
       "postfix": null,
       "prefix": "Downloading https://raw.githubusercontent.com/stanfordnlp/stanza-resources/main/resources_1.4.1.json",
       "rate": null,
       "total": 28785,
       "unit": "B",
       "unit_divisor": 1000,
       "unit_scale": true
      },
      "application/vnd.jupyter.widget-view+json": {
       "model_id": "a6ddc5196f4941a0b78c439735716bf7",
       "version_major": 2,
       "version_minor": 0
      },
      "text/plain": [
       "Downloading https://raw.githubusercontent.com/stanfordnlp/stanza-resources/main/resources_1.4.1.json:   0%|   …"
      ]
     },
     "metadata": {},
     "output_type": "display_data"
    },
    {
     "name": "stderr",
     "output_type": "stream",
     "text": [
      "2022-09-28 18:20:16 INFO: Loading these models for language: en (English):\n",
      "========================\n",
      "| Processor | Package  |\n",
      "------------------------\n",
      "| tokenize  | combined |\n",
      "| sentiment | sstplus  |\n",
      "========================\n",
      "\n",
      "2022-09-28 18:20:16 INFO: Use device: gpu\n",
      "2022-09-28 18:20:16 INFO: Loading: tokenize\n",
      "2022-09-28 18:20:16 INFO: Loading: sentiment\n",
      "2022-09-28 18:20:16 INFO: Done loading processors!\n",
      "2022-09-28 18:20:17 INFO: Checking for updates to resources.json in case models have been updated.  Note: this behavior can be turned off with download_method=None or download_method=DownloadMethod.REUSE_RESOURCES\n"
     ]
    },
    {
     "data": {
      "application/json": {
       "ascii": false,
       "bar_format": null,
       "colour": null,
       "elapsed": 0.01387643814086914,
       "initial": 0,
       "n": 0,
       "ncols": null,
       "nrows": 24,
       "postfix": null,
       "prefix": "Downloading https://raw.githubusercontent.com/stanfordnlp/stanza-resources/main/resources_1.4.1.json",
       "rate": null,
       "total": 28785,
       "unit": "B",
       "unit_divisor": 1000,
       "unit_scale": true
      },
      "application/vnd.jupyter.widget-view+json": {
       "model_id": "0b8947ced7a34628b2ab652d38241603",
       "version_major": 2,
       "version_minor": 0
      },
      "text/plain": [
       "Downloading https://raw.githubusercontent.com/stanfordnlp/stanza-resources/main/resources_1.4.1.json:   0%|   …"
      ]
     },
     "metadata": {},
     "output_type": "display_data"
    },
    {
     "name": "stderr",
     "output_type": "stream",
     "text": [
      "2022-09-28 18:20:17 INFO: Loading these models for language: en (English):\n",
      "========================\n",
      "| Processor | Package  |\n",
      "------------------------\n",
      "| tokenize  | combined |\n",
      "| sentiment | sstplus  |\n",
      "========================\n",
      "\n",
      "2022-09-28 18:20:17 INFO: Use device: gpu\n",
      "2022-09-28 18:20:17 INFO: Loading: tokenize\n",
      "2022-09-28 18:20:17 INFO: Loading: sentiment\n",
      "2022-09-28 18:20:18 INFO: Done loading processors!\n",
      "2022-09-28 18:20:19 INFO: Checking for updates to resources.json in case models have been updated.  Note: this behavior can be turned off with download_method=None or download_method=DownloadMethod.REUSE_RESOURCES\n"
     ]
    },
    {
     "data": {
      "application/json": {
       "ascii": false,
       "bar_format": null,
       "colour": null,
       "elapsed": 0.013701915740966797,
       "initial": 0,
       "n": 0,
       "ncols": null,
       "nrows": 24,
       "postfix": null,
       "prefix": "Downloading https://raw.githubusercontent.com/stanfordnlp/stanza-resources/main/resources_1.4.1.json",
       "rate": null,
       "total": 28785,
       "unit": "B",
       "unit_divisor": 1000,
       "unit_scale": true
      },
      "application/vnd.jupyter.widget-view+json": {
       "model_id": "99f5d04b007549f1bfc26893e1f434fe",
       "version_major": 2,
       "version_minor": 0
      },
      "text/plain": [
       "Downloading https://raw.githubusercontent.com/stanfordnlp/stanza-resources/main/resources_1.4.1.json:   0%|   …"
      ]
     },
     "metadata": {},
     "output_type": "display_data"
    },
    {
     "name": "stderr",
     "output_type": "stream",
     "text": [
      "2022-09-28 18:20:19 INFO: Loading these models for language: en (English):\n",
      "========================\n",
      "| Processor | Package  |\n",
      "------------------------\n",
      "| tokenize  | combined |\n",
      "| sentiment | sstplus  |\n",
      "========================\n",
      "\n",
      "2022-09-28 18:20:19 INFO: Use device: gpu\n",
      "2022-09-28 18:20:19 INFO: Loading: tokenize\n",
      "2022-09-28 18:20:19 INFO: Loading: sentiment\n",
      "2022-09-28 18:20:20 INFO: Done loading processors!\n"
     ]
    }
   ],
   "source": [
    "df1=sentiment_analysis_stanza(df, 'encrypted_collated_transcription')"
   ]
  },
  {
   "cell_type": "code",
   "execution_count": 14,
   "id": "584e352d",
   "metadata": {},
   "outputs": [
    {
     "data": {
      "text/html": [
       "<div>\n",
       "<style scoped>\n",
       "    .dataframe tbody tr th:only-of-type {\n",
       "        vertical-align: middle;\n",
       "    }\n",
       "\n",
       "    .dataframe tbody tr th {\n",
       "        vertical-align: top;\n",
       "    }\n",
       "\n",
       "    .dataframe thead th {\n",
       "        text-align: right;\n",
       "    }\n",
       "</style>\n",
       "<table border=\"1\" class=\"dataframe\">\n",
       "  <thead>\n",
       "    <tr style=\"text-align: right;\">\n",
       "      <th></th>\n",
       "      <th>ID</th>\n",
       "      <th>sales_offer_date</th>\n",
       "      <th>accepted_flg</th>\n",
       "      <th>encrypted_collated_transcription</th>\n",
       "      <th>sentiment</th>\n",
       "    </tr>\n",
       "  </thead>\n",
       "  <tbody>\n",
       "    <tr>\n",
       "      <th>0</th>\n",
       "      <td>4f81e2619aae688a3a814da7f58afdecb9720e9fdd5070...</td>\n",
       "      <td>2022-05-31</td>\n",
       "      <td>False</td>\n",
       "      <td>Thank you for calling [CLIENT] Tech for speaki...</td>\n",
       "      <td>neutral</td>\n",
       "    </tr>\n",
       "    <tr>\n",
       "      <th>1</th>\n",
       "      <td>03bcb2c2dd3e29b8b7ba6c0cf8c7232c8637d6bc73a760...</td>\n",
       "      <td>2022-05-13</td>\n",
       "      <td>False</td>\n",
       "      <td>[CLIENT] tech My name is [NAME]. May I have yo...</td>\n",
       "      <td>negative</td>\n",
       "    </tr>\n",
       "    <tr>\n",
       "      <th>2</th>\n",
       "      <td>c1eeaa4c1fe8030bb6f0deaa81a13b468001c699586f46...</td>\n",
       "      <td>2022-05-29</td>\n",
       "      <td>False</td>\n",
       "      <td>Hi. Thank you for call. tech you're speaking w...</td>\n",
       "      <td>negative</td>\n",
       "    </tr>\n",
       "    <tr>\n",
       "      <th>3</th>\n",
       "      <td>5bf5d93c818534d9edcff8cbb45f28d3e0438cf7ab7850...</td>\n",
       "      <td>2022-05-22</td>\n",
       "      <td>False</td>\n",
       "      <td>Thank you for calling [CLIENT] Tech Coach. My ...</td>\n",
       "      <td>neutral</td>\n",
       "    </tr>\n",
       "    <tr>\n",
       "      <th>4</th>\n",
       "      <td>c484a81de8c25bcfb9d95f36976cfb425a3d2c7602a93c...</td>\n",
       "      <td>2022-05-21</td>\n",
       "      <td>False</td>\n",
       "      <td>Hi. Thank you for calling [CLIENT] Barcode Coa...</td>\n",
       "      <td>negative</td>\n",
       "    </tr>\n",
       "    <tr>\n",
       "      <th>5</th>\n",
       "      <td>b6716b08ca0380e7b5c7e9b78fcecf5787ccf3d61d1869...</td>\n",
       "      <td>2022-05-03</td>\n",
       "      <td>False</td>\n",
       "      <td>Thank you for calling Coach. This is Sean spea...</td>\n",
       "      <td>negative</td>\n",
       "    </tr>\n",
       "    <tr>\n",
       "      <th>6</th>\n",
       "      <td>9f900ab27f1f249ce94d45947421b50ce9b9a85ec0d909...</td>\n",
       "      <td>2022-05-17</td>\n",
       "      <td>True</td>\n",
       "      <td>Thank you for calling [CLIENT] Tech Coach. Ben...</td>\n",
       "      <td>negative</td>\n",
       "    </tr>\n",
       "    <tr>\n",
       "      <th>7</th>\n",
       "      <td>143fada0c669611e23e414d405a4f528a2528718a20c00...</td>\n",
       "      <td>2022-05-03</td>\n",
       "      <td>False</td>\n",
       "      <td>Morning. Thanks for [CLIENT] Tech Coach. My na...</td>\n",
       "      <td>negative</td>\n",
       "    </tr>\n",
       "    <tr>\n",
       "      <th>8</th>\n",
       "      <td>8cbccda49661f95352e153157f8894c4d2d8e52d28740b...</td>\n",
       "      <td>2022-05-09</td>\n",
       "      <td>False</td>\n",
       "      <td>thank Hello? Hi. Thank you for calling [CLIENT...</td>\n",
       "      <td>neutral</td>\n",
       "    </tr>\n",
       "    <tr>\n",
       "      <th>9</th>\n",
       "      <td>46f3a9e86aa971a85d0d4cda2a886233d88f9e1da57eff...</td>\n",
       "      <td>2022-05-19</td>\n",
       "      <td>False</td>\n",
       "      <td>Hi. Thank you for [CLIENT] Tech Coach. My name...</td>\n",
       "      <td>neutral</td>\n",
       "    </tr>\n",
       "    <tr>\n",
       "      <th>10</th>\n",
       "      <td>bb8d77d937410b5110748f5ef1a5eaf39e8fe6d5e5c258...</td>\n",
       "      <td>2022-05-24</td>\n",
       "      <td>False</td>\n",
       "      <td>Thanks you for calling tech Coach. My name is ...</td>\n",
       "      <td>negative</td>\n",
       "    </tr>\n",
       "    <tr>\n",
       "      <th>11</th>\n",
       "      <td>c0a9ab591ee552643a17e61b7167805b3047475e9a6897...</td>\n",
       "      <td>2022-05-21</td>\n",
       "      <td>False</td>\n",
       "      <td>Yeah. Yeah. This means that work. Thank you fo...</td>\n",
       "      <td>negative</td>\n",
       "    </tr>\n",
       "    <tr>\n",
       "      <th>12</th>\n",
       "      <td>b623fb1f52c247a19423c7c9a8460ddf95033b8458ab8b...</td>\n",
       "      <td>2022-05-01</td>\n",
       "      <td>False</td>\n",
       "      <td>Thank you for calling [CLIENT] Tech Coach name...</td>\n",
       "      <td>negative</td>\n",
       "    </tr>\n",
       "    <tr>\n",
       "      <th>13</th>\n",
       "      <td>b5b23536a07e5e7b420c0b93dd25d1b8a30b428e7c2c6e...</td>\n",
       "      <td>2022-05-24</td>\n",
       "      <td>False</td>\n",
       "      <td>Thank Thank you for calling [CLIENT] Tech Coac...</td>\n",
       "      <td>neutral</td>\n",
       "    </tr>\n",
       "    <tr>\n",
       "      <th>14</th>\n",
       "      <td>263801a45c0fe066e945b5ef067cbc837f89d5aa12dcde...</td>\n",
       "      <td>2022-05-31</td>\n",
       "      <td>False</td>\n",
       "      <td>Thank Thank you for I'm talking [CLIENT] Tech ...</td>\n",
       "      <td>negative</td>\n",
       "    </tr>\n",
       "    <tr>\n",
       "      <th>15</th>\n",
       "      <td>d7b69493a1d43af6616a0fb7441afe4d40b65c1eeb8412...</td>\n",
       "      <td>2022-05-23</td>\n",
       "      <td>False</td>\n",
       "      <td>Ok. Thank you for calling [CLIENT] Tech Coach....</td>\n",
       "      <td>negative</td>\n",
       "    </tr>\n",
       "    <tr>\n",
       "      <th>16</th>\n",
       "      <td>24d2c79d3a6b8a27bdab1371e3d8ecbbb6348128f47ddc...</td>\n",
       "      <td>2022-05-12</td>\n",
       "      <td>False</td>\n",
       "      <td>Thank you for calling [CLIENT] Tech Coach. My ...</td>\n",
       "      <td>negative</td>\n",
       "    </tr>\n",
       "    <tr>\n",
       "      <th>17</th>\n",
       "      <td>53414ecdf02604b143202f79d92377dda69307f730e492...</td>\n",
       "      <td>2022-05-08</td>\n",
       "      <td>False</td>\n",
       "      <td>Hello is [CLIENT] Coach santiago Hello in it's...</td>\n",
       "      <td>neutral</td>\n",
       "    </tr>\n",
       "    <tr>\n",
       "      <th>18</th>\n",
       "      <td>797e283c3257ca5f7bb9e101c69cbefb0debb8f0207e2c...</td>\n",
       "      <td>2022-05-06</td>\n",
       "      <td>True</td>\n",
       "      <td>Hi. Thank you for calling [CLIENT] Tech Coach ...</td>\n",
       "      <td>neutral</td>\n",
       "    </tr>\n",
       "    <tr>\n",
       "      <th>19</th>\n",
       "      <td>a4c131b826f1a6c233e989cef70447f2029bac90670ab5...</td>\n",
       "      <td>2022-05-30</td>\n",
       "      <td>False</td>\n",
       "      <td>Thank you for Contacting [CLIENT] Tech Coach M...</td>\n",
       "      <td>negative</td>\n",
       "    </tr>\n",
       "    <tr>\n",
       "      <th>20</th>\n",
       "      <td>d94aa5db28106d252eb8c1f76816c1607ff4999462bc45...</td>\n",
       "      <td>2022-05-21</td>\n",
       "      <td>False</td>\n",
       "      <td>Thank you for calling [CLIENT] [CLIENT] Tech C...</td>\n",
       "      <td>negative</td>\n",
       "    </tr>\n",
       "    <tr>\n",
       "      <th>21</th>\n",
       "      <td>56a2e1ae957d29268c98c0ecb01a0e2f17e385aeefb224...</td>\n",
       "      <td>2022-05-22</td>\n",
       "      <td>False</td>\n",
       "      <td>Hi. Thank for calling [CLIENT] My name is [NAM...</td>\n",
       "      <td>negative</td>\n",
       "    </tr>\n",
       "    <tr>\n",
       "      <th>22</th>\n",
       "      <td>a38a07ce34e179da48869142cd39e4bbfd9c62a5344071...</td>\n",
       "      <td>2022-05-12</td>\n",
       "      <td>False</td>\n",
       "      <td>Ok. Thank you for calling [CLIENT] Tech Coach....</td>\n",
       "      <td>negative</td>\n",
       "    </tr>\n",
       "    <tr>\n",
       "      <th>23</th>\n",
       "      <td>5da3745d3fd31ba16307659045da55b0d2adecc6dc19a1...</td>\n",
       "      <td>2022-05-31</td>\n",
       "      <td>True</td>\n",
       "      <td>Hi. Thank you for calling [CLIENT] Tech Coach....</td>\n",
       "      <td>neutral</td>\n",
       "    </tr>\n",
       "    <tr>\n",
       "      <th>24</th>\n",
       "      <td>8291f34b98fb7eb8d3496549cd1d9a9b8ab76be0aa5d1e...</td>\n",
       "      <td>2022-05-28</td>\n",
       "      <td>False</td>\n",
       "      <td>Ok Bye. Ok. Hi there. Thank you for calling [C...</td>\n",
       "      <td>neutral</td>\n",
       "    </tr>\n",
       "    <tr>\n",
       "      <th>25</th>\n",
       "      <td>b3ae08bd35ac9105afe264757638cef0aa7a09e89fd367...</td>\n",
       "      <td>2022-05-25</td>\n",
       "      <td>False</td>\n",
       "      <td>Thank Right? Echo coach. My name art. i have y...</td>\n",
       "      <td>negative</td>\n",
       "    </tr>\n",
       "    <tr>\n",
       "      <th>26</th>\n",
       "      <td>4437ba6862f2c393c6a526ca6db431980863207b307f78...</td>\n",
       "      <td>2022-05-30</td>\n",
       "      <td>True</td>\n",
       "      <td>ok Thank you for calling [CLIENT] Tech Coach. ...</td>\n",
       "      <td>negative</td>\n",
       "    </tr>\n",
       "    <tr>\n",
       "      <th>27</th>\n",
       "      <td>1eb9199f3bf267849224d04299853bbdd3e98e17cf2047...</td>\n",
       "      <td>2022-05-03</td>\n",
       "      <td>False</td>\n",
       "      <td>Hello? Thank you for calling [CLIENT]. I'll be...</td>\n",
       "      <td>negative</td>\n",
       "    </tr>\n",
       "    <tr>\n",
       "      <th>28</th>\n",
       "      <td>5bf4a5790d48de0ba24b51f9faafc1f3d8c416cfc3bbdd...</td>\n",
       "      <td>2022-05-12</td>\n",
       "      <td>False</td>\n",
       "      <td>Hi. Thank you for calling [CLIENT] Tech Coach....</td>\n",
       "      <td>neutral</td>\n",
       "    </tr>\n",
       "    <tr>\n",
       "      <th>29</th>\n",
       "      <td>e02e455154679a491c9158ac9410a5750111fbcd9bb413...</td>\n",
       "      <td>2022-05-27</td>\n",
       "      <td>False</td>\n",
       "      <td>Thank you for calling [CLIENT] Tech Coach. My ...</td>\n",
       "      <td>negative</td>\n",
       "    </tr>\n",
       "    <tr>\n",
       "      <th>30</th>\n",
       "      <td>b5e3c6834416b9331d30804c0897655b2cb46edfac58fa...</td>\n",
       "      <td>2022-05-21</td>\n",
       "      <td>False</td>\n",
       "      <td>Hi. Thank you for calling [CLIENT] Tech Coach ...</td>\n",
       "      <td>negative</td>\n",
       "    </tr>\n",
       "    <tr>\n",
       "      <th>31</th>\n",
       "      <td>2a4b519cda229c20d0d42573d60529be8f245259410f7a...</td>\n",
       "      <td>2022-05-28</td>\n",
       "      <td>False</td>\n",
       "      <td>thank you for calling [CLIENT] Tech Coach. My ...</td>\n",
       "      <td>negative</td>\n",
       "    </tr>\n",
       "    <tr>\n",
       "      <th>32</th>\n",
       "      <td>043e01bd3f72b575283f9d09343e6168a031fd0436e527...</td>\n",
       "      <td>2022-05-11</td>\n",
       "      <td>False</td>\n",
       "      <td>Hi. Thank you so much for calling [CLIENT]. My...</td>\n",
       "      <td>neutral</td>\n",
       "    </tr>\n",
       "    <tr>\n",
       "      <th>33</th>\n",
       "      <td>9c027f04ee4ead74d89a4f4c11c9ab4fc8291c7516b5f2...</td>\n",
       "      <td>2022-05-27</td>\n",
       "      <td>False</td>\n",
       "      <td>you. Thank you for calling [CLIENT] Tech Coach...</td>\n",
       "      <td>negative</td>\n",
       "    </tr>\n",
       "    <tr>\n",
       "      <th>34</th>\n",
       "      <td>88a10ea5c732fe5a13846b393abf72c1b236e60b946084...</td>\n",
       "      <td>2022-05-21</td>\n",
       "      <td>False</td>\n",
       "      <td>Hi. Thank you so much for waiting on the line....</td>\n",
       "      <td>negative</td>\n",
       "    </tr>\n",
       "    <tr>\n",
       "      <th>35</th>\n",
       "      <td>56630285d2f79fd2621feafd26482f3889b21c596c6008...</td>\n",
       "      <td>2022-05-27</td>\n",
       "      <td>False</td>\n",
       "      <td>ok. Hi, thank you for calling [CLIENT] Tech Co...</td>\n",
       "      <td>negative</td>\n",
       "    </tr>\n",
       "    <tr>\n",
       "      <th>36</th>\n",
       "      <td>deb868e96a0f734afdb58780178bd07e8c89cb8f68c53a...</td>\n",
       "      <td>2022-05-31</td>\n",
       "      <td>False</td>\n",
       "      <td>Ok. This for [CLIENT] Tech Coach. go. number A...</td>\n",
       "      <td>positive</td>\n",
       "    </tr>\n",
       "    <tr>\n",
       "      <th>37</th>\n",
       "      <td>559a8b3b0eb88c5e3e00054f8d5422873ef48f8bd34c70...</td>\n",
       "      <td>2022-05-16</td>\n",
       "      <td>False</td>\n",
       "      <td>Hi. This is Playing from [CLIENT]. Can I get y...</td>\n",
       "      <td>negative</td>\n",
       "    </tr>\n",
       "    <tr>\n",
       "      <th>38</th>\n",
       "      <td>65f2764772377e4888834944694a719d133aae86fb3df5...</td>\n",
       "      <td>2022-05-18</td>\n",
       "      <td>False</td>\n",
       "      <td>Thank. For calling. My name is [NAME]'ll be? d...</td>\n",
       "      <td>negative</td>\n",
       "    </tr>\n",
       "    <tr>\n",
       "      <th>39</th>\n",
       "      <td>2ba8921d31f0f71aceae41cf5b1d9eda10eb9fe819637a...</td>\n",
       "      <td>2022-05-10</td>\n",
       "      <td>False</td>\n",
       "      <td>Hi. Thank you for calling [CLIENT] Tech Coach....</td>\n",
       "      <td>negative</td>\n",
       "    </tr>\n",
       "    <tr>\n",
       "      <th>40</th>\n",
       "      <td>8d855f94232fe31d7add27eb1b47eb6812bf476f67f5ee...</td>\n",
       "      <td>2022-05-31</td>\n",
       "      <td>False</td>\n",
       "      <td>Tech Coach. My name may I have your first last...</td>\n",
       "      <td>neutral</td>\n",
       "    </tr>\n",
       "    <tr>\n",
       "      <th>41</th>\n",
       "      <td>2dbb76c19a88383660f399d3530e0ecfd5afc15d76c669...</td>\n",
       "      <td>2022-05-17</td>\n",
       "      <td>False</td>\n",
       "      <td>calling. Too. My name is [NAME]. May I have yo...</td>\n",
       "      <td>negative</td>\n",
       "    </tr>\n",
       "    <tr>\n",
       "      <th>42</th>\n",
       "      <td>d532eea7e3f4dc190de023acaeef9da75e21e0ae037ea3...</td>\n",
       "      <td>2022-05-28</td>\n",
       "      <td>False</td>\n",
       "      <td>Hi. This for [CLIENT] Tech Coach. My name is [...</td>\n",
       "      <td>negative</td>\n",
       "    </tr>\n",
       "    <tr>\n",
       "      <th>43</th>\n",
       "      <td>b1391483ef638c2f4d187bee9f0e7c193dbd69a141603c...</td>\n",
       "      <td>2022-05-14</td>\n",
       "      <td>False</td>\n",
       "      <td>Ok. Hi. Thank you for calling [CLIENT] Tech Co...</td>\n",
       "      <td>negative</td>\n",
       "    </tr>\n",
       "    <tr>\n",
       "      <th>44</th>\n",
       "      <td>3042a7766bba46e074ed6653eefd4596809a6552c73265...</td>\n",
       "      <td>2022-05-25</td>\n",
       "      <td>False</td>\n",
       "      <td>Ok. Thank you for calling Asurion. This is May...</td>\n",
       "      <td>negative</td>\n",
       "    </tr>\n",
       "    <tr>\n",
       "      <th>45</th>\n",
       "      <td>1c8fc4ac147dcca314c3ad0b9f2cd9ef0741250dbe2376...</td>\n",
       "      <td>2022-05-29</td>\n",
       "      <td>False</td>\n",
       "      <td>Yes, It didn't really a book a different That....</td>\n",
       "      <td>neutral</td>\n",
       "    </tr>\n",
       "  </tbody>\n",
       "</table>\n",
       "</div>"
      ],
      "text/plain": [
       "                                                   ID sales_offer_date  \\\n",
       "0   4f81e2619aae688a3a814da7f58afdecb9720e9fdd5070...       2022-05-31   \n",
       "1   03bcb2c2dd3e29b8b7ba6c0cf8c7232c8637d6bc73a760...       2022-05-13   \n",
       "2   c1eeaa4c1fe8030bb6f0deaa81a13b468001c699586f46...       2022-05-29   \n",
       "3   5bf5d93c818534d9edcff8cbb45f28d3e0438cf7ab7850...       2022-05-22   \n",
       "4   c484a81de8c25bcfb9d95f36976cfb425a3d2c7602a93c...       2022-05-21   \n",
       "5   b6716b08ca0380e7b5c7e9b78fcecf5787ccf3d61d1869...       2022-05-03   \n",
       "6   9f900ab27f1f249ce94d45947421b50ce9b9a85ec0d909...       2022-05-17   \n",
       "7   143fada0c669611e23e414d405a4f528a2528718a20c00...       2022-05-03   \n",
       "8   8cbccda49661f95352e153157f8894c4d2d8e52d28740b...       2022-05-09   \n",
       "9   46f3a9e86aa971a85d0d4cda2a886233d88f9e1da57eff...       2022-05-19   \n",
       "10  bb8d77d937410b5110748f5ef1a5eaf39e8fe6d5e5c258...       2022-05-24   \n",
       "11  c0a9ab591ee552643a17e61b7167805b3047475e9a6897...       2022-05-21   \n",
       "12  b623fb1f52c247a19423c7c9a8460ddf95033b8458ab8b...       2022-05-01   \n",
       "13  b5b23536a07e5e7b420c0b93dd25d1b8a30b428e7c2c6e...       2022-05-24   \n",
       "14  263801a45c0fe066e945b5ef067cbc837f89d5aa12dcde...       2022-05-31   \n",
       "15  d7b69493a1d43af6616a0fb7441afe4d40b65c1eeb8412...       2022-05-23   \n",
       "16  24d2c79d3a6b8a27bdab1371e3d8ecbbb6348128f47ddc...       2022-05-12   \n",
       "17  53414ecdf02604b143202f79d92377dda69307f730e492...       2022-05-08   \n",
       "18  797e283c3257ca5f7bb9e101c69cbefb0debb8f0207e2c...       2022-05-06   \n",
       "19  a4c131b826f1a6c233e989cef70447f2029bac90670ab5...       2022-05-30   \n",
       "20  d94aa5db28106d252eb8c1f76816c1607ff4999462bc45...       2022-05-21   \n",
       "21  56a2e1ae957d29268c98c0ecb01a0e2f17e385aeefb224...       2022-05-22   \n",
       "22  a38a07ce34e179da48869142cd39e4bbfd9c62a5344071...       2022-05-12   \n",
       "23  5da3745d3fd31ba16307659045da55b0d2adecc6dc19a1...       2022-05-31   \n",
       "24  8291f34b98fb7eb8d3496549cd1d9a9b8ab76be0aa5d1e...       2022-05-28   \n",
       "25  b3ae08bd35ac9105afe264757638cef0aa7a09e89fd367...       2022-05-25   \n",
       "26  4437ba6862f2c393c6a526ca6db431980863207b307f78...       2022-05-30   \n",
       "27  1eb9199f3bf267849224d04299853bbdd3e98e17cf2047...       2022-05-03   \n",
       "28  5bf4a5790d48de0ba24b51f9faafc1f3d8c416cfc3bbdd...       2022-05-12   \n",
       "29  e02e455154679a491c9158ac9410a5750111fbcd9bb413...       2022-05-27   \n",
       "30  b5e3c6834416b9331d30804c0897655b2cb46edfac58fa...       2022-05-21   \n",
       "31  2a4b519cda229c20d0d42573d60529be8f245259410f7a...       2022-05-28   \n",
       "32  043e01bd3f72b575283f9d09343e6168a031fd0436e527...       2022-05-11   \n",
       "33  9c027f04ee4ead74d89a4f4c11c9ab4fc8291c7516b5f2...       2022-05-27   \n",
       "34  88a10ea5c732fe5a13846b393abf72c1b236e60b946084...       2022-05-21   \n",
       "35  56630285d2f79fd2621feafd26482f3889b21c596c6008...       2022-05-27   \n",
       "36  deb868e96a0f734afdb58780178bd07e8c89cb8f68c53a...       2022-05-31   \n",
       "37  559a8b3b0eb88c5e3e00054f8d5422873ef48f8bd34c70...       2022-05-16   \n",
       "38  65f2764772377e4888834944694a719d133aae86fb3df5...       2022-05-18   \n",
       "39  2ba8921d31f0f71aceae41cf5b1d9eda10eb9fe819637a...       2022-05-10   \n",
       "40  8d855f94232fe31d7add27eb1b47eb6812bf476f67f5ee...       2022-05-31   \n",
       "41  2dbb76c19a88383660f399d3530e0ecfd5afc15d76c669...       2022-05-17   \n",
       "42  d532eea7e3f4dc190de023acaeef9da75e21e0ae037ea3...       2022-05-28   \n",
       "43  b1391483ef638c2f4d187bee9f0e7c193dbd69a141603c...       2022-05-14   \n",
       "44  3042a7766bba46e074ed6653eefd4596809a6552c73265...       2022-05-25   \n",
       "45  1c8fc4ac147dcca314c3ad0b9f2cd9ef0741250dbe2376...       2022-05-29   \n",
       "\n",
       "    accepted_flg                   encrypted_collated_transcription sentiment  \n",
       "0          False  Thank you for calling [CLIENT] Tech for speaki...   neutral  \n",
       "1          False  [CLIENT] tech My name is [NAME]. May I have yo...  negative  \n",
       "2          False  Hi. Thank you for call. tech you're speaking w...  negative  \n",
       "3          False  Thank you for calling [CLIENT] Tech Coach. My ...   neutral  \n",
       "4          False  Hi. Thank you for calling [CLIENT] Barcode Coa...  negative  \n",
       "5          False  Thank you for calling Coach. This is Sean spea...  negative  \n",
       "6           True  Thank you for calling [CLIENT] Tech Coach. Ben...  negative  \n",
       "7          False  Morning. Thanks for [CLIENT] Tech Coach. My na...  negative  \n",
       "8          False  thank Hello? Hi. Thank you for calling [CLIENT...   neutral  \n",
       "9          False  Hi. Thank you for [CLIENT] Tech Coach. My name...   neutral  \n",
       "10         False  Thanks you for calling tech Coach. My name is ...  negative  \n",
       "11         False  Yeah. Yeah. This means that work. Thank you fo...  negative  \n",
       "12         False  Thank you for calling [CLIENT] Tech Coach name...  negative  \n",
       "13         False  Thank Thank you for calling [CLIENT] Tech Coac...   neutral  \n",
       "14         False  Thank Thank you for I'm talking [CLIENT] Tech ...  negative  \n",
       "15         False  Ok. Thank you for calling [CLIENT] Tech Coach....  negative  \n",
       "16         False  Thank you for calling [CLIENT] Tech Coach. My ...  negative  \n",
       "17         False  Hello is [CLIENT] Coach santiago Hello in it's...   neutral  \n",
       "18          True  Hi. Thank you for calling [CLIENT] Tech Coach ...   neutral  \n",
       "19         False  Thank you for Contacting [CLIENT] Tech Coach M...  negative  \n",
       "20         False  Thank you for calling [CLIENT] [CLIENT] Tech C...  negative  \n",
       "21         False  Hi. Thank for calling [CLIENT] My name is [NAM...  negative  \n",
       "22         False  Ok. Thank you for calling [CLIENT] Tech Coach....  negative  \n",
       "23          True  Hi. Thank you for calling [CLIENT] Tech Coach....   neutral  \n",
       "24         False  Ok Bye. Ok. Hi there. Thank you for calling [C...   neutral  \n",
       "25         False  Thank Right? Echo coach. My name art. i have y...  negative  \n",
       "26          True  ok Thank you for calling [CLIENT] Tech Coach. ...  negative  \n",
       "27         False  Hello? Thank you for calling [CLIENT]. I'll be...  negative  \n",
       "28         False  Hi. Thank you for calling [CLIENT] Tech Coach....   neutral  \n",
       "29         False  Thank you for calling [CLIENT] Tech Coach. My ...  negative  \n",
       "30         False  Hi. Thank you for calling [CLIENT] Tech Coach ...  negative  \n",
       "31         False  thank you for calling [CLIENT] Tech Coach. My ...  negative  \n",
       "32         False  Hi. Thank you so much for calling [CLIENT]. My...   neutral  \n",
       "33         False  you. Thank you for calling [CLIENT] Tech Coach...  negative  \n",
       "34         False  Hi. Thank you so much for waiting on the line....  negative  \n",
       "35         False  ok. Hi, thank you for calling [CLIENT] Tech Co...  negative  \n",
       "36         False  Ok. This for [CLIENT] Tech Coach. go. number A...  positive  \n",
       "37         False  Hi. This is Playing from [CLIENT]. Can I get y...  negative  \n",
       "38         False  Thank. For calling. My name is [NAME]'ll be? d...  negative  \n",
       "39         False  Hi. Thank you for calling [CLIENT] Tech Coach....  negative  \n",
       "40         False  Tech Coach. My name may I have your first last...   neutral  \n",
       "41         False  calling. Too. My name is [NAME]. May I have yo...  negative  \n",
       "42         False  Hi. This for [CLIENT] Tech Coach. My name is [...  negative  \n",
       "43         False  Ok. Hi. Thank you for calling [CLIENT] Tech Co...  negative  \n",
       "44         False  Ok. Thank you for calling Asurion. This is May...  negative  \n",
       "45         False  Yes, It didn't really a book a different That....   neutral  "
      ]
     },
     "execution_count": 14,
     "metadata": {},
     "output_type": "execute_result"
    }
   ],
   "source": [
    "df1"
   ]
  },
  {
   "cell_type": "code",
   "execution_count": null,
   "id": "9f6388c4",
   "metadata": {},
   "outputs": [],
   "source": []
  }
 ],
 "metadata": {
  "kernelspec": {
   "display_name": "Python 3 (ipykernel)",
   "language": "python",
   "name": "python3"
  },
  "language_info": {
   "codemirror_mode": {
    "name": "ipython",
    "version": 3
   },
   "file_extension": ".py",
   "mimetype": "text/x-python",
   "name": "python",
   "nbconvert_exporter": "python",
   "pygments_lexer": "ipython3",
   "version": "3.8.12"
  }
 },
 "nbformat": 4,
 "nbformat_minor": 5
}
